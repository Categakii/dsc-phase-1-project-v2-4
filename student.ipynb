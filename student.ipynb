{
  "cells": [
    {
      "cell_type": "markdown",
      "metadata": {
        "id": "14O2pZDUEt5h"
      },
      "source": [
        "## Final Project Submission\n",
        "\n",
        "Please fill out:\n",
        "* Student name: Catherine Gakii\n",
        "* Student pace: self paced / part time / full time\n",
        "* Scheduled project review date/time: \n",
        "* Instructor name: Diana Mongina \n",
        "* Blog post URL:\n"
      ]
    },
    {
      "cell_type": "markdown",
      "source": [
        "**Research Questions**\n",
        "1. To understand which studios are producing the most successfull movies\n",
        "2. To explore which genres are performing best at the box office.\n"
      ],
      "metadata": {
        "id": "0KDFSzt1aetL"
      }
    },
    {
      "cell_type": "markdown",
      "source": [
        "**Dataset used:**\n",
        "\n",
        "\n",
        "1:/content/bom.movie_gross.csv.gz\n",
        "\n",
        "2:/content/im.db.zip table movie_ratings\n",
        "\n",
        "3:./content/im.db.zip table movie_basic\n"
      ],
      "metadata": {
        "id": "Ha7o2Qhse6U-"
      }
    },
    {
      "cell_type": "markdown",
      "source": [
        "**/content/bom.movie_gross.csv.gz** variables \n",
        "\n",
        "**title: **the title of the movie\n",
        "\n",
        "**studio**: the studio that produced or distributed the movie\n",
        "\n",
        "**domestic_gross:** the total domestic (US) box office gross earnings of the movie in US dollars\n",
        "\n",
        "**foreign_gross:** the total foreign box office gross earnings of the movie in US dollars\n",
        "\n",
        "**year**: the year the movie was released\n",
        "______________________________________________________________________________________________________________\n",
        "\n",
        "**/content/im.db: ** movie_rating dataset explained**\n",
        "\n",
        "**tconst:** a unique identifier for each movie (same as in movie_basics)\n",
        "\n",
        "**average_rating:** the average rating of the movie, based on user and critic reviews\n",
        "\n",
        "**num_votes:** the number of votes/ratings the movie received\n",
        "\n",
        "**distribution**: the distribution of ratings, e.g. the number of 1-star, 2-star, 3-star, etc. ratings\n",
        "\n",
        "______________________________________________________________________________________________________________\n",
        "\n",
        "**/content/im.db: ** movie_basic dataset explained**\n",
        "\n",
        "**tconst:** a unique identifier for each movie\n",
        "\n",
        "**title_type:** the type of title (e.g. movie, short, tvSeries)\n",
        "\n",
        "**primary_title:** the primary title of the movie\n",
        "\n",
        "**original_title:** the original title of the movie\n",
        "\n",
        "**is_adult:** whether the movie is an adult movie (e.g. pornographic content)\n",
        "\n",
        "**start_year:** the year the movie was released\n",
        "\n",
        "**end_year:** the year the movie stopped running (if a TV series)\n",
        "\n",
        "**runtime_minutes:** the runtime of the movie in minutes\n",
        "\n",
        "**genres:** the genre(s) of the movie (e.g. Drama, Action, Comedy)"
      ],
      "metadata": {
        "id": "03Nr33EcZpvh"
      }
    },
    {
      "cell_type": "markdown",
      "source": [],
      "metadata": {
        "id": "zrwKeVfEcr32"
      }
    },
    {
      "cell_type": "markdown",
      "source": [],
      "metadata": {
        "id": "l5TGkhz6e46A"
      }
    },
    {
      "cell_type": "markdown",
      "source": [
        "# **1. Load the dataset into the and read as CSV **"
      ],
      "metadata": {
        "id": "JdaTkaBDMS0l"
      }
    },
    {
      "cell_type": "markdown",
      "source": [
        " 1.1 Importing libraries\n",
        "\n",
        "\n",
        "\n",
        "\n",
        "\n",
        "\n",
        "\n"
      ],
      "metadata": {
        "id": "fG3uGCA_tKC2"
      }
    },
    {
      "cell_type": "code",
      "source": [
        "# Importing necessary libaries \n",
        "import pandas as pd\n",
        "import numpy as np\n",
        "import scipy\n",
        "import matplotlib.pyplot as plt\n",
        "import seaborn as sns\n",
        "import sqlite3\n",
        "import pandas as pd\n",
        "import zipfile"
      ],
      "metadata": {
        "id": "WyWLAO_hlO3J"
      },
      "execution_count": null,
      "outputs": []
    },
    {
      "cell_type": "markdown",
      "source": [
        " 1.2 Loading and reading the datasets "
      ],
      "metadata": {
        "id": "PGtZvatrs5O6"
      }
    },
    {
      "cell_type": "code",
      "source": [
        "df_movie_gross = pd.read_csv('/content/bom.movie_gross.csv.gz')\n",
        "print(\"The gross movie shape is =\",df_movie_gross.shape)"
      ],
      "metadata": {
        "colab": {
          "base_uri": "https://localhost:8080/"
        },
        "id": "jpe_cvBo4yI0",
        "outputId": "ae6cbdd0-ff63-4e70-b698-ac034f9b123d"
      },
      "execution_count": null,
      "outputs": [
        {
          "output_type": "stream",
          "name": "stdout",
          "text": [
            "The gross movie shape is = (3387, 5)\n"
          ]
        }
      ]
    },
    {
      "cell_type": "code",
      "source": [
        "# opening and reading the content of content/im.db.zip  dataset\n",
        "#unzip the file\n",
        "\n",
        "with zipfile.ZipFile('/content/im.db.zip', 'r') as zip_ref:\n",
        "    zip_ref.extractall('/content/')\n",
        "# connect to the SQLite database\n",
        "sql= sqlite3.connect('/content/im.db')\n",
        "\n",
        "# querirng  the 'movie_basics' \n",
        "df_basic = pd.read_sql_query('SELECT * FROM movie_basics',sql)\n",
        "# querirng  the 'movie_basics' \n",
        "df_rating = pd.read_sql_query('SELECT * FROM movie_ratings',sql)\n"
      ],
      "metadata": {
        "id": "Yre7TBoprbq8"
      },
      "execution_count": null,
      "outputs": []
    },
    {
      "cell_type": "markdown",
      "source": [
        "# **2.0 Exploring the dataset**"
      ],
      "metadata": {
        "id": "tQofZH1qt-lQ"
      }
    },
    {
      "cell_type": "code",
      "source": [
        "#1.0 Checking the shape of the datasets \n",
        "print(\"The gross movie shape is =\",df_movie_gross.shape)\n",
        "print()\n",
        "print(\"The basic movie  shape is =\",df_basic.shape)\n",
        "print() \n",
        "print(\"The rating movie  shape is =\",df_rating.shape)\n"
      ],
      "metadata": {
        "colab": {
          "base_uri": "https://localhost:8080/"
        },
        "id": "Wvk2SHc_uXbG",
        "outputId": "a94499d1-bb85-4985-9dbb-3497d1a5c4f4"
      },
      "execution_count": null,
      "outputs": [
        {
          "output_type": "stream",
          "name": "stdout",
          "text": [
            "The gross movie shape is = (3387, 5)\n",
            "\n",
            "The basic movie  shape is = (146144, 6)\n",
            "\n",
            "The rating movie  shape is = (73856, 3)\n"
          ]
        }
      ]
    },
    {
      "cell_type": "markdown",
      "source": [
        "**Shape observation:** The three datasets have different number of rows and coluymns "
      ],
      "metadata": {
        "id": "CwmpLbN9Dd65"
      }
    },
    {
      "cell_type": "markdown",
      "source": [
        "# **3.0 Checking the gross movie dataset**"
      ],
      "metadata": {
        "id": "C5DRgymbGhXW"
      }
    },
    {
      "cell_type": "code",
      "execution_count": null,
      "metadata": {
        "colab": {
          "base_uri": "https://localhost:8080/",
          "height": 206
        },
        "id": "MJ9Dhz9VEt5i",
        "outputId": "d74c861a-e471-433d-c7cc-419ea2638bfd"
      },
      "outputs": [
        {
          "output_type": "execute_result",
          "data": {
            "text/plain": [
              "                                         title studio  domestic_gross  \\\n",
              "0                                  Toy Story 3     BV     415000000.0   \n",
              "1                   Alice in Wonderland (2010)     BV     334200000.0   \n",
              "2  Harry Potter and the Deathly Hallows Part 1     WB     296000000.0   \n",
              "3                                    Inception     WB     292600000.0   \n",
              "4                          Shrek Forever After   P/DW     238700000.0   \n",
              "\n",
              "  foreign_gross  year  \n",
              "0     652000000  2010  \n",
              "1     691300000  2010  \n",
              "2     664300000  2010  \n",
              "3     535700000  2010  \n",
              "4     513900000  2010  "
            ],
            "text/html": [
              "\n",
              "  <div id=\"df-196c0abd-c0cf-4e6b-85f5-d92d370975fd\">\n",
              "    <div class=\"colab-df-container\">\n",
              "      <div>\n",
              "<style scoped>\n",
              "    .dataframe tbody tr th:only-of-type {\n",
              "        vertical-align: middle;\n",
              "    }\n",
              "\n",
              "    .dataframe tbody tr th {\n",
              "        vertical-align: top;\n",
              "    }\n",
              "\n",
              "    .dataframe thead th {\n",
              "        text-align: right;\n",
              "    }\n",
              "</style>\n",
              "<table border=\"1\" class=\"dataframe\">\n",
              "  <thead>\n",
              "    <tr style=\"text-align: right;\">\n",
              "      <th></th>\n",
              "      <th>title</th>\n",
              "      <th>studio</th>\n",
              "      <th>domestic_gross</th>\n",
              "      <th>foreign_gross</th>\n",
              "      <th>year</th>\n",
              "    </tr>\n",
              "  </thead>\n",
              "  <tbody>\n",
              "    <tr>\n",
              "      <th>0</th>\n",
              "      <td>Toy Story 3</td>\n",
              "      <td>BV</td>\n",
              "      <td>415000000.0</td>\n",
              "      <td>652000000</td>\n",
              "      <td>2010</td>\n",
              "    </tr>\n",
              "    <tr>\n",
              "      <th>1</th>\n",
              "      <td>Alice in Wonderland (2010)</td>\n",
              "      <td>BV</td>\n",
              "      <td>334200000.0</td>\n",
              "      <td>691300000</td>\n",
              "      <td>2010</td>\n",
              "    </tr>\n",
              "    <tr>\n",
              "      <th>2</th>\n",
              "      <td>Harry Potter and the Deathly Hallows Part 1</td>\n",
              "      <td>WB</td>\n",
              "      <td>296000000.0</td>\n",
              "      <td>664300000</td>\n",
              "      <td>2010</td>\n",
              "    </tr>\n",
              "    <tr>\n",
              "      <th>3</th>\n",
              "      <td>Inception</td>\n",
              "      <td>WB</td>\n",
              "      <td>292600000.0</td>\n",
              "      <td>535700000</td>\n",
              "      <td>2010</td>\n",
              "    </tr>\n",
              "    <tr>\n",
              "      <th>4</th>\n",
              "      <td>Shrek Forever After</td>\n",
              "      <td>P/DW</td>\n",
              "      <td>238700000.0</td>\n",
              "      <td>513900000</td>\n",
              "      <td>2010</td>\n",
              "    </tr>\n",
              "  </tbody>\n",
              "</table>\n",
              "</div>\n",
              "      <button class=\"colab-df-convert\" onclick=\"convertToInteractive('df-196c0abd-c0cf-4e6b-85f5-d92d370975fd')\"\n",
              "              title=\"Convert this dataframe to an interactive table.\"\n",
              "              style=\"display:none;\">\n",
              "        \n",
              "  <svg xmlns=\"http://www.w3.org/2000/svg\" height=\"24px\"viewBox=\"0 0 24 24\"\n",
              "       width=\"24px\">\n",
              "    <path d=\"M0 0h24v24H0V0z\" fill=\"none\"/>\n",
              "    <path d=\"M18.56 5.44l.94 2.06.94-2.06 2.06-.94-2.06-.94-.94-2.06-.94 2.06-2.06.94zm-11 1L8.5 8.5l.94-2.06 2.06-.94-2.06-.94L8.5 2.5l-.94 2.06-2.06.94zm10 10l.94 2.06.94-2.06 2.06-.94-2.06-.94-.94-2.06-.94 2.06-2.06.94z\"/><path d=\"M17.41 7.96l-1.37-1.37c-.4-.4-.92-.59-1.43-.59-.52 0-1.04.2-1.43.59L10.3 9.45l-7.72 7.72c-.78.78-.78 2.05 0 2.83L4 21.41c.39.39.9.59 1.41.59.51 0 1.02-.2 1.41-.59l7.78-7.78 2.81-2.81c.8-.78.8-2.07 0-2.86zM5.41 20L4 18.59l7.72-7.72 1.47 1.35L5.41 20z\"/>\n",
              "  </svg>\n",
              "      </button>\n",
              "      \n",
              "  <style>\n",
              "    .colab-df-container {\n",
              "      display:flex;\n",
              "      flex-wrap:wrap;\n",
              "      gap: 12px;\n",
              "    }\n",
              "\n",
              "    .colab-df-convert {\n",
              "      background-color: #E8F0FE;\n",
              "      border: none;\n",
              "      border-radius: 50%;\n",
              "      cursor: pointer;\n",
              "      display: none;\n",
              "      fill: #1967D2;\n",
              "      height: 32px;\n",
              "      padding: 0 0 0 0;\n",
              "      width: 32px;\n",
              "    }\n",
              "\n",
              "    .colab-df-convert:hover {\n",
              "      background-color: #E2EBFA;\n",
              "      box-shadow: 0px 1px 2px rgba(60, 64, 67, 0.3), 0px 1px 3px 1px rgba(60, 64, 67, 0.15);\n",
              "      fill: #174EA6;\n",
              "    }\n",
              "\n",
              "    [theme=dark] .colab-df-convert {\n",
              "      background-color: #3B4455;\n",
              "      fill: #D2E3FC;\n",
              "    }\n",
              "\n",
              "    [theme=dark] .colab-df-convert:hover {\n",
              "      background-color: #434B5C;\n",
              "      box-shadow: 0px 1px 3px 1px rgba(0, 0, 0, 0.15);\n",
              "      filter: drop-shadow(0px 1px 2px rgba(0, 0, 0, 0.3));\n",
              "      fill: #FFFFFF;\n",
              "    }\n",
              "  </style>\n",
              "\n",
              "      <script>\n",
              "        const buttonEl =\n",
              "          document.querySelector('#df-196c0abd-c0cf-4e6b-85f5-d92d370975fd button.colab-df-convert');\n",
              "        buttonEl.style.display =\n",
              "          google.colab.kernel.accessAllowed ? 'block' : 'none';\n",
              "\n",
              "        async function convertToInteractive(key) {\n",
              "          const element = document.querySelector('#df-196c0abd-c0cf-4e6b-85f5-d92d370975fd');\n",
              "          const dataTable =\n",
              "            await google.colab.kernel.invokeFunction('convertToInteractive',\n",
              "                                                     [key], {});\n",
              "          if (!dataTable) return;\n",
              "\n",
              "          const docLinkHtml = 'Like what you see? Visit the ' +\n",
              "            '<a target=\"_blank\" href=https://colab.research.google.com/notebooks/data_table.ipynb>data table notebook</a>'\n",
              "            + ' to learn more about interactive tables.';\n",
              "          element.innerHTML = '';\n",
              "          dataTable['output_type'] = 'display_data';\n",
              "          await google.colab.output.renderOutput(dataTable, element);\n",
              "          const docLink = document.createElement('div');\n",
              "          docLink.innerHTML = docLinkHtml;\n",
              "          element.appendChild(docLink);\n",
              "        }\n",
              "      </script>\n",
              "    </div>\n",
              "  </div>\n",
              "  "
            ]
          },
          "metadata": {},
          "execution_count": 70
        }
      ],
      "source": [
        "df_movie_gross.head(5) ###check the first 5 rows  of movie "
      ]
    },
    {
      "cell_type": "code",
      "source": [
        "df_movie_gross.tail(3) ###check the last 3 rows "
      ],
      "metadata": {
        "colab": {
          "base_uri": "https://localhost:8080/",
          "height": 143
        },
        "id": "KW7cA7UKICly",
        "outputId": "19d215e1-ca68-4cac-a2eb-7c48d3ff11d6"
      },
      "execution_count": null,
      "outputs": [
        {
          "output_type": "execute_result",
          "data": {
            "text/plain": [
              "                  title      studio  domestic_gross foreign_gross  year\n",
              "3384           El Pacto        Sony          2500.0           NaN  2018\n",
              "3385           The Swan  Synergetic          2400.0           NaN  2018\n",
              "3386  An Actor Prepares       Grav.          1700.0           NaN  2018"
            ],
            "text/html": [
              "\n",
              "  <div id=\"df-1b00c289-cea3-47ea-bdc9-c78785d2a157\">\n",
              "    <div class=\"colab-df-container\">\n",
              "      <div>\n",
              "<style scoped>\n",
              "    .dataframe tbody tr th:only-of-type {\n",
              "        vertical-align: middle;\n",
              "    }\n",
              "\n",
              "    .dataframe tbody tr th {\n",
              "        vertical-align: top;\n",
              "    }\n",
              "\n",
              "    .dataframe thead th {\n",
              "        text-align: right;\n",
              "    }\n",
              "</style>\n",
              "<table border=\"1\" class=\"dataframe\">\n",
              "  <thead>\n",
              "    <tr style=\"text-align: right;\">\n",
              "      <th></th>\n",
              "      <th>title</th>\n",
              "      <th>studio</th>\n",
              "      <th>domestic_gross</th>\n",
              "      <th>foreign_gross</th>\n",
              "      <th>year</th>\n",
              "    </tr>\n",
              "  </thead>\n",
              "  <tbody>\n",
              "    <tr>\n",
              "      <th>3384</th>\n",
              "      <td>El Pacto</td>\n",
              "      <td>Sony</td>\n",
              "      <td>2500.0</td>\n",
              "      <td>NaN</td>\n",
              "      <td>2018</td>\n",
              "    </tr>\n",
              "    <tr>\n",
              "      <th>3385</th>\n",
              "      <td>The Swan</td>\n",
              "      <td>Synergetic</td>\n",
              "      <td>2400.0</td>\n",
              "      <td>NaN</td>\n",
              "      <td>2018</td>\n",
              "    </tr>\n",
              "    <tr>\n",
              "      <th>3386</th>\n",
              "      <td>An Actor Prepares</td>\n",
              "      <td>Grav.</td>\n",
              "      <td>1700.0</td>\n",
              "      <td>NaN</td>\n",
              "      <td>2018</td>\n",
              "    </tr>\n",
              "  </tbody>\n",
              "</table>\n",
              "</div>\n",
              "      <button class=\"colab-df-convert\" onclick=\"convertToInteractive('df-1b00c289-cea3-47ea-bdc9-c78785d2a157')\"\n",
              "              title=\"Convert this dataframe to an interactive table.\"\n",
              "              style=\"display:none;\">\n",
              "        \n",
              "  <svg xmlns=\"http://www.w3.org/2000/svg\" height=\"24px\"viewBox=\"0 0 24 24\"\n",
              "       width=\"24px\">\n",
              "    <path d=\"M0 0h24v24H0V0z\" fill=\"none\"/>\n",
              "    <path d=\"M18.56 5.44l.94 2.06.94-2.06 2.06-.94-2.06-.94-.94-2.06-.94 2.06-2.06.94zm-11 1L8.5 8.5l.94-2.06 2.06-.94-2.06-.94L8.5 2.5l-.94 2.06-2.06.94zm10 10l.94 2.06.94-2.06 2.06-.94-2.06-.94-.94-2.06-.94 2.06-2.06.94z\"/><path d=\"M17.41 7.96l-1.37-1.37c-.4-.4-.92-.59-1.43-.59-.52 0-1.04.2-1.43.59L10.3 9.45l-7.72 7.72c-.78.78-.78 2.05 0 2.83L4 21.41c.39.39.9.59 1.41.59.51 0 1.02-.2 1.41-.59l7.78-7.78 2.81-2.81c.8-.78.8-2.07 0-2.86zM5.41 20L4 18.59l7.72-7.72 1.47 1.35L5.41 20z\"/>\n",
              "  </svg>\n",
              "      </button>\n",
              "      \n",
              "  <style>\n",
              "    .colab-df-container {\n",
              "      display:flex;\n",
              "      flex-wrap:wrap;\n",
              "      gap: 12px;\n",
              "    }\n",
              "\n",
              "    .colab-df-convert {\n",
              "      background-color: #E8F0FE;\n",
              "      border: none;\n",
              "      border-radius: 50%;\n",
              "      cursor: pointer;\n",
              "      display: none;\n",
              "      fill: #1967D2;\n",
              "      height: 32px;\n",
              "      padding: 0 0 0 0;\n",
              "      width: 32px;\n",
              "    }\n",
              "\n",
              "    .colab-df-convert:hover {\n",
              "      background-color: #E2EBFA;\n",
              "      box-shadow: 0px 1px 2px rgba(60, 64, 67, 0.3), 0px 1px 3px 1px rgba(60, 64, 67, 0.15);\n",
              "      fill: #174EA6;\n",
              "    }\n",
              "\n",
              "    [theme=dark] .colab-df-convert {\n",
              "      background-color: #3B4455;\n",
              "      fill: #D2E3FC;\n",
              "    }\n",
              "\n",
              "    [theme=dark] .colab-df-convert:hover {\n",
              "      background-color: #434B5C;\n",
              "      box-shadow: 0px 1px 3px 1px rgba(0, 0, 0, 0.15);\n",
              "      filter: drop-shadow(0px 1px 2px rgba(0, 0, 0, 0.3));\n",
              "      fill: #FFFFFF;\n",
              "    }\n",
              "  </style>\n",
              "\n",
              "      <script>\n",
              "        const buttonEl =\n",
              "          document.querySelector('#df-1b00c289-cea3-47ea-bdc9-c78785d2a157 button.colab-df-convert');\n",
              "        buttonEl.style.display =\n",
              "          google.colab.kernel.accessAllowed ? 'block' : 'none';\n",
              "\n",
              "        async function convertToInteractive(key) {\n",
              "          const element = document.querySelector('#df-1b00c289-cea3-47ea-bdc9-c78785d2a157');\n",
              "          const dataTable =\n",
              "            await google.colab.kernel.invokeFunction('convertToInteractive',\n",
              "                                                     [key], {});\n",
              "          if (!dataTable) return;\n",
              "\n",
              "          const docLinkHtml = 'Like what you see? Visit the ' +\n",
              "            '<a target=\"_blank\" href=https://colab.research.google.com/notebooks/data_table.ipynb>data table notebook</a>'\n",
              "            + ' to learn more about interactive tables.';\n",
              "          element.innerHTML = '';\n",
              "          dataTable['output_type'] = 'display_data';\n",
              "          await google.colab.output.renderOutput(dataTable, element);\n",
              "          const docLink = document.createElement('div');\n",
              "          docLink.innerHTML = docLinkHtml;\n",
              "          element.appendChild(docLink);\n",
              "        }\n",
              "      </script>\n",
              "    </div>\n",
              "  </div>\n",
              "  "
            ]
          },
          "metadata": {},
          "execution_count": 71
        }
      ]
    },
    {
      "cell_type": "markdown",
      "source": [
        "**Obseravation of values for the gross movie:** In the tail the values of the foreign_gross are missing"
      ],
      "metadata": {
        "id": "6s_cDmGoEBPc"
      }
    },
    {
      "cell_type": "code",
      "source": [
        "df_movie_gross.info() ## getiing the summmary for the data including missing da"
      ],
      "metadata": {
        "colab": {
          "base_uri": "https://localhost:8080/"
        },
        "id": "qqDBSYgsIMEX",
        "outputId": "5594eb91-04bb-4e1b-d173-04d8b9a7f202"
      },
      "execution_count": null,
      "outputs": [
        {
          "output_type": "stream",
          "name": "stdout",
          "text": [
            "<class 'pandas.core.frame.DataFrame'>\n",
            "RangeIndex: 3387 entries, 0 to 3386\n",
            "Data columns (total 5 columns):\n",
            " #   Column          Non-Null Count  Dtype  \n",
            "---  ------          --------------  -----  \n",
            " 0   title           3387 non-null   object \n",
            " 1   studio          3382 non-null   object \n",
            " 2   domestic_gross  3359 non-null   float64\n",
            " 3   foreign_gross   2037 non-null   object \n",
            " 4   year            3387 non-null   int64  \n",
            "dtypes: float64(1), int64(1), object(3)\n",
            "memory usage: 132.4+ KB\n"
          ]
        }
      ]
    },
    {
      "cell_type": "code",
      "source": [
        "# Checking the % of value missing \n",
        "missing_per = df_movie_gross.isnull().mean() * 100\n",
        "missing_per "
      ],
      "metadata": {
        "colab": {
          "base_uri": "https://localhost:8080/"
        },
        "id": "JbEpUIE1Lk1J",
        "outputId": "a209d0ed-9fc5-46e6-a920-0222ae1a8410"
      },
      "execution_count": null,
      "outputs": [
        {
          "output_type": "execute_result",
          "data": {
            "text/plain": [
              "title              0.000000\n",
              "studio             0.147623\n",
              "domestic_gross     0.826690\n",
              "foreign_gross     39.858282\n",
              "year               0.000000\n",
              "dtype: float64"
            ]
          },
          "metadata": {},
          "execution_count": 73
        }
      ]
    },
    {
      "cell_type": "markdown",
      "source": [
        "**Missing Value in the gross movie :** foreign_gross has ~40 % missing values worth to explore more the type of value missing"
      ],
      "metadata": {
        "id": "GOgqevsjJ-fB"
      }
    },
    {
      "cell_type": "code",
      "source": [
        "df_movie_gross.describe() ##to get the sum stats for the numerical data "
      ],
      "metadata": {
        "colab": {
          "base_uri": "https://localhost:8080/",
          "height": 300
        },
        "id": "3gzDi-buI1Lo",
        "outputId": "6e3db850-27a0-4e4b-d3d8-aac84553d821"
      },
      "execution_count": null,
      "outputs": [
        {
          "output_type": "execute_result",
          "data": {
            "text/plain": [
              "       domestic_gross         year\n",
              "count    3.359000e+03  3387.000000\n",
              "mean     2.874585e+07  2013.958075\n",
              "std      6.698250e+07     2.478141\n",
              "min      1.000000e+02  2010.000000\n",
              "25%      1.200000e+05  2012.000000\n",
              "50%      1.400000e+06  2014.000000\n",
              "75%      2.790000e+07  2016.000000\n",
              "max      9.367000e+08  2018.000000"
            ],
            "text/html": [
              "\n",
              "  <div id=\"df-140b22bb-1709-462b-af74-36d7a6a20a0d\">\n",
              "    <div class=\"colab-df-container\">\n",
              "      <div>\n",
              "<style scoped>\n",
              "    .dataframe tbody tr th:only-of-type {\n",
              "        vertical-align: middle;\n",
              "    }\n",
              "\n",
              "    .dataframe tbody tr th {\n",
              "        vertical-align: top;\n",
              "    }\n",
              "\n",
              "    .dataframe thead th {\n",
              "        text-align: right;\n",
              "    }\n",
              "</style>\n",
              "<table border=\"1\" class=\"dataframe\">\n",
              "  <thead>\n",
              "    <tr style=\"text-align: right;\">\n",
              "      <th></th>\n",
              "      <th>domestic_gross</th>\n",
              "      <th>year</th>\n",
              "    </tr>\n",
              "  </thead>\n",
              "  <tbody>\n",
              "    <tr>\n",
              "      <th>count</th>\n",
              "      <td>3.359000e+03</td>\n",
              "      <td>3387.000000</td>\n",
              "    </tr>\n",
              "    <tr>\n",
              "      <th>mean</th>\n",
              "      <td>2.874585e+07</td>\n",
              "      <td>2013.958075</td>\n",
              "    </tr>\n",
              "    <tr>\n",
              "      <th>std</th>\n",
              "      <td>6.698250e+07</td>\n",
              "      <td>2.478141</td>\n",
              "    </tr>\n",
              "    <tr>\n",
              "      <th>min</th>\n",
              "      <td>1.000000e+02</td>\n",
              "      <td>2010.000000</td>\n",
              "    </tr>\n",
              "    <tr>\n",
              "      <th>25%</th>\n",
              "      <td>1.200000e+05</td>\n",
              "      <td>2012.000000</td>\n",
              "    </tr>\n",
              "    <tr>\n",
              "      <th>50%</th>\n",
              "      <td>1.400000e+06</td>\n",
              "      <td>2014.000000</td>\n",
              "    </tr>\n",
              "    <tr>\n",
              "      <th>75%</th>\n",
              "      <td>2.790000e+07</td>\n",
              "      <td>2016.000000</td>\n",
              "    </tr>\n",
              "    <tr>\n",
              "      <th>max</th>\n",
              "      <td>9.367000e+08</td>\n",
              "      <td>2018.000000</td>\n",
              "    </tr>\n",
              "  </tbody>\n",
              "</table>\n",
              "</div>\n",
              "      <button class=\"colab-df-convert\" onclick=\"convertToInteractive('df-140b22bb-1709-462b-af74-36d7a6a20a0d')\"\n",
              "              title=\"Convert this dataframe to an interactive table.\"\n",
              "              style=\"display:none;\">\n",
              "        \n",
              "  <svg xmlns=\"http://www.w3.org/2000/svg\" height=\"24px\"viewBox=\"0 0 24 24\"\n",
              "       width=\"24px\">\n",
              "    <path d=\"M0 0h24v24H0V0z\" fill=\"none\"/>\n",
              "    <path d=\"M18.56 5.44l.94 2.06.94-2.06 2.06-.94-2.06-.94-.94-2.06-.94 2.06-2.06.94zm-11 1L8.5 8.5l.94-2.06 2.06-.94-2.06-.94L8.5 2.5l-.94 2.06-2.06.94zm10 10l.94 2.06.94-2.06 2.06-.94-2.06-.94-.94-2.06-.94 2.06-2.06.94z\"/><path d=\"M17.41 7.96l-1.37-1.37c-.4-.4-.92-.59-1.43-.59-.52 0-1.04.2-1.43.59L10.3 9.45l-7.72 7.72c-.78.78-.78 2.05 0 2.83L4 21.41c.39.39.9.59 1.41.59.51 0 1.02-.2 1.41-.59l7.78-7.78 2.81-2.81c.8-.78.8-2.07 0-2.86zM5.41 20L4 18.59l7.72-7.72 1.47 1.35L5.41 20z\"/>\n",
              "  </svg>\n",
              "      </button>\n",
              "      \n",
              "  <style>\n",
              "    .colab-df-container {\n",
              "      display:flex;\n",
              "      flex-wrap:wrap;\n",
              "      gap: 12px;\n",
              "    }\n",
              "\n",
              "    .colab-df-convert {\n",
              "      background-color: #E8F0FE;\n",
              "      border: none;\n",
              "      border-radius: 50%;\n",
              "      cursor: pointer;\n",
              "      display: none;\n",
              "      fill: #1967D2;\n",
              "      height: 32px;\n",
              "      padding: 0 0 0 0;\n",
              "      width: 32px;\n",
              "    }\n",
              "\n",
              "    .colab-df-convert:hover {\n",
              "      background-color: #E2EBFA;\n",
              "      box-shadow: 0px 1px 2px rgba(60, 64, 67, 0.3), 0px 1px 3px 1px rgba(60, 64, 67, 0.15);\n",
              "      fill: #174EA6;\n",
              "    }\n",
              "\n",
              "    [theme=dark] .colab-df-convert {\n",
              "      background-color: #3B4455;\n",
              "      fill: #D2E3FC;\n",
              "    }\n",
              "\n",
              "    [theme=dark] .colab-df-convert:hover {\n",
              "      background-color: #434B5C;\n",
              "      box-shadow: 0px 1px 3px 1px rgba(0, 0, 0, 0.15);\n",
              "      filter: drop-shadow(0px 1px 2px rgba(0, 0, 0, 0.3));\n",
              "      fill: #FFFFFF;\n",
              "    }\n",
              "  </style>\n",
              "\n",
              "      <script>\n",
              "        const buttonEl =\n",
              "          document.querySelector('#df-140b22bb-1709-462b-af74-36d7a6a20a0d button.colab-df-convert');\n",
              "        buttonEl.style.display =\n",
              "          google.colab.kernel.accessAllowed ? 'block' : 'none';\n",
              "\n",
              "        async function convertToInteractive(key) {\n",
              "          const element = document.querySelector('#df-140b22bb-1709-462b-af74-36d7a6a20a0d');\n",
              "          const dataTable =\n",
              "            await google.colab.kernel.invokeFunction('convertToInteractive',\n",
              "                                                     [key], {});\n",
              "          if (!dataTable) return;\n",
              "\n",
              "          const docLinkHtml = 'Like what you see? Visit the ' +\n",
              "            '<a target=\"_blank\" href=https://colab.research.google.com/notebooks/data_table.ipynb>data table notebook</a>'\n",
              "            + ' to learn more about interactive tables.';\n",
              "          element.innerHTML = '';\n",
              "          dataTable['output_type'] = 'display_data';\n",
              "          await google.colab.output.renderOutput(dataTable, element);\n",
              "          const docLink = document.createElement('div');\n",
              "          docLink.innerHTML = docLinkHtml;\n",
              "          element.appendChild(docLink);\n",
              "        }\n",
              "      </script>\n",
              "    </div>\n",
              "  </div>\n",
              "  "
            ]
          },
          "metadata": {},
          "execution_count": 74
        }
      ]
    },
    {
      "cell_type": "markdown",
      "source": [
        "**4.0 Data manipulation the  gross movie dataset**"
      ],
      "metadata": {
        "id": "_HvhDsfSHqgT"
      }
    },
    {
      "cell_type": "code",
      "source": [
        "# create a copy of movie dataset\n",
        "\n",
        "df_movie_gross1=df_movie_gross.copy()"
      ],
      "metadata": {
        "id": "dBbK3NRoN6zI"
      },
      "execution_count": null,
      "outputs": []
    },
    {
      "cell_type": "code",
      "source": [
        "### dropping all the missing values \n",
        "df_movie_gross1=df_movie_gross1.dropna()\n",
        "df_movie_gross1.isnull().sum(). any() # confirm is all missing have been dropped "
      ],
      "metadata": {
        "colab": {
          "base_uri": "https://localhost:8080/"
        },
        "id": "S4pv3SV60pdt",
        "outputId": "46df5475-cd7d-4d9b-ec25-fd234af37e4e"
      },
      "execution_count": null,
      "outputs": [
        {
          "output_type": "execute_result",
          "data": {
            "text/plain": [
              "False"
            ]
          },
          "metadata": {},
          "execution_count": 77
        }
      ]
    },
    {
      "cell_type": "code",
      "source": [
        "##checking for duplicates \n",
        "df_movie_gross1.duplicated().sum() # no duplicates observed "
      ],
      "metadata": {
        "colab": {
          "base_uri": "https://localhost:8080/"
        },
        "id": "OtzJv7j51SHW",
        "outputId": "a1354c2a-915e-4f7b-c394-70e71057f0b3"
      },
      "execution_count": null,
      "outputs": [
        {
          "output_type": "execute_result",
          "data": {
            "text/plain": [
              "0"
            ]
          },
          "metadata": {},
          "execution_count": 78
        }
      ]
    },
    {
      "cell_type": "code",
      "source": [
        "# checking for outliers \n",
        "plt.figure(figsize=(15, 10))\n",
        "df_movie_gross1.boxplot()\n",
        "plt.show()\n"
      ],
      "metadata": {
        "colab": {
          "base_uri": "https://localhost:8080/",
          "height": 817
        },
        "id": "qDeKYZXxRFxL",
        "outputId": "3a6d4f5f-8c19-4650-c960-5064d86cd31b"
      },
      "execution_count": null,
      "outputs": [
        {
          "output_type": "display_data",
          "data": {
            "text/plain": [
              "<Figure size 1500x1000 with 1 Axes>"
            ],
            "image/png": "[encoded data removed]"
          },
          "metadata": {}
        }
      ]
    },
    {
      "cell_type": "markdown",
      "source": [
        "**Observation:** There is outlier in the domestic_gross though it is okay"
      ],
      "metadata": {
        "id": "J4STknjs8kH6"
      }
    },
    {
      "cell_type": "markdown",
      "source": [
        "**Research Questions 1**\n",
        "\n",
        "1:To understand which studios are producing the most successfull movies"
      ],
      "metadata": {
        "id": "smPyio1nisga"
      }
    },
    {
      "cell_type": "code",
      "source": [
        "# Calculate descriptive statistics of the domestic gross\n",
        "#our dependent variable=domestic_gross\n",
        "#our independent variable =studios \n",
        "domestic_gross = df_movie_gross1['domestic_gross']\n",
        "print(domestic_gross.describe())"
      ],
      "metadata": {
        "colab": {
          "base_uri": "https://localhost:8080/"
        },
        "id": "gnQUElL5-pQ-",
        "outputId": "ba36eb07-a3a3-4d98-a149-ee4d91f05b99"
      },
      "execution_count": null,
      "outputs": [
        {
          "output_type": "stream",
          "name": "stdout",
          "text": [
            "count    2.007000e+03\n",
            "mean     4.701984e+07\n",
            "std      8.162689e+07\n",
            "min      4.000000e+02\n",
            "25%      6.700000e+05\n",
            "50%      1.670000e+07\n",
            "75%      5.605000e+07\n",
            "max      9.367000e+08\n",
            "Name: domestic_gross, dtype: float64\n"
          ]
        }
      ]
    },
    {
      "cell_type": "markdown",
      "source": [
        "**Observation:** The data looks okay with normal disribution"
      ],
      "metadata": {
        "id": "pxVL4z5L_9-q"
      }
    },
    {
      "cell_type": "code",
      "source": [
        "\n",
        "# Check for missing values for the domestic gross\n",
        "print(domestic_gross.isnull().sum()) ## no missing values since it was dropped"
      ],
      "metadata": {
        "colab": {
          "base_uri": "https://localhost:8080/"
        },
        "id": "NuRNhmWN9qNW",
        "outputId": "3d54d9e4-19ba-4311-c84a-5c4f8e6133d3"
      },
      "execution_count": null,
      "outputs": [
        {
          "output_type": "stream",
          "name": "stdout",
          "text": [
            "0\n"
          ]
        }
      ]
    },
    {
      "cell_type": "code",
      "source": [
        "# Visualize the distribution for the domestic gross\n",
        "\n",
        "sns.histplot(domestic_gross)\n",
        "plt.show()"
      ],
      "metadata": {
        "colab": {
          "base_uri": "https://localhost:8080/",
          "height": 450
        },
        "id": "zpORX3Lj-e6G",
        "outputId": "fabd4dc7-5927-4a7d-d137-fd92928add01"
      },
      "execution_count": null,
      "outputs": [
        {
          "output_type": "display_data",
          "data": {
            "text/plain": [
              "<Figure size 640x480 with 1 Axes>"
            ],
            "image/png": "[encoded data removed]"
          },
          "metadata": {}
        }
      ]
    },
    {
      "cell_type": "code",
      "source": [
        "# Check for outliers for the domestic gross\n",
        "sns.boxplot(domestic_gross)\n",
        "plt.show()\n"
      ],
      "metadata": {
        "colab": {
          "base_uri": "https://localhost:8080/",
          "height": 445
        },
        "id": "xX9RGObt-rQ5",
        "outputId": "20314545-f6a5-42a6-d3a2-f3bf632e0652"
      },
      "execution_count": null,
      "outputs": [
        {
          "output_type": "display_data",
          "data": {
            "text/plain": [
              "<Figure size 640x480 with 1 Axes>"
            ],
            "image/png": "[encoded data removed]"
          },
          "metadata": {}
        }
      ]
    },
    {
      "cell_type": "markdown",
      "source": [
        "**observation :** There is one outlier in the domestic_gross though we will keep it "
      ],
      "metadata": {
        "id": "wxIX-3uZAP6h"
      }
    },
    {
      "cell_type": "code",
      "source": [
        "## find the 10 stuidos with the highest domestic_gross\n",
        "## group by studio and the domestic_gross sum\n",
        "studio_gross = df_movie_gross1.groupby('studio')['domestic_gross'].sum()\n",
        "\n",
        "studio_gross = studio_gross.sort_values(ascending=False) ##sorting \n",
        "top_studios=studio_gross.head(10)\n",
        "studio_gross.head(10) ## print the foirst 10 studios with the highest revenue "
      ],
      "metadata": {
        "colab": {
          "base_uri": "https://localhost:8080/"
        },
        "id": "PHGWc_m-i0Hp",
        "outputId": "46a4aaa6-5245-4733-c378-f363f3ca0920"
      },
      "execution_count": null,
      "outputs": [
        {
          "output_type": "execute_result",
          "data": {
            "text/plain": [
              "studio\n",
              "BV         1.839653e+10\n",
              "Uni.       1.289204e+10\n",
              "WB         1.212360e+10\n",
              "Fox        1.092450e+10\n",
              "Sony       8.459479e+09\n",
              "Par.       7.580813e+09\n",
              "LGF        3.991851e+09\n",
              "WB (NL)    3.975100e+09\n",
              "LG/S       1.965200e+09\n",
              "P/DW       1.682900e+09\n",
              "Name: domestic_gross, dtype: float64"
            ]
          },
          "metadata": {},
          "execution_count": 244
        }
      ]
    },
    {
      "cell_type": "code",
      "source": [
        "\n",
        "## find the 10 stuidos with the highest domestic_gross\n",
        "plt.barh(top_studios.index, top_studios.values,color=\"green\")\n",
        "plt.title('Top 10 Studios by domestic gross')\n",
        "plt.xlabel('Studio')\n",
        "plt.ylabel('Gross domestic (millions)')\n",
        "plt.show()\n",
        "\n",
        "\n"
      ],
      "metadata": {
        "colab": {
          "base_uri": "https://localhost:8080/",
          "height": 472
        },
        "id": "ZTPMYwaqjXfG",
        "outputId": "fcbb55a3-2318-45f4-8eb4-e040c98a68cf"
      },
      "execution_count": null,
      "outputs": [
        {
          "output_type": "display_data",
          "data": {
            "text/plain": [
              "<Figure size 640x480 with 1 Axes>"
            ],
            "image/png": "[encoded data removed]"
          },
          "metadata": {}
        }
      ]
    },
    {
      "cell_type": "code",
      "source": [
        "#correlation between a studio's movie production and its gross revenue.\n",
        "df_movie_counts = df_movie_gross1['studio'].value_counts().rename_axis('studio').reset_index(name='movie_count')\n",
        "\n",
        "# Group the gross revenue by studio\n",
        "df_gross_revenue = df_movie_gross.groupby('studio')[['domestic_gross', 'foreign_gross']].sum()\n",
        "\n",
        "# Merge the movie counts and gross revenue DataFrames\n",
        "df_studio = pd.merge(df_movie_counts, df_gross_revenue, on='studio')\n",
        "\n",
        "# Create a scatter plot with a regression line\n",
        "sns.lmplot(x='movie_count', y='domestic_gross', data=df_studio, scatter_kws={'s': 50}, line_kws={'color': 'yellow'})"
      ],
      "metadata": {
        "colab": {
          "base_uri": "https://localhost:8080/",
          "height": 578
        },
        "id": "gfrNgKhtmHAL",
        "outputId": "14f15f7c-6b80-47f7-ab70-d0eebd22e77a"
      },
      "execution_count": null,
      "outputs": [
        {
          "output_type": "stream",
          "name": "stderr",
          "text": [
            "<ipython-input-118-3bfbcc656ad6>:5: FutureWarning: The default value of numeric_only in DataFrameGroupBy.sum is deprecated. In a future version, numeric_only will default to False. Either specify numeric_only or select only columns which should be valid for the function.\n",
            "  df_gross_revenue = df_movie_gross.groupby('studio')[['domestic_gross', 'foreign_gross']].sum()\n"
          ]
        },
        {
          "output_type": "execute_result",
          "data": {
            "text/plain": [
              "<seaborn.axisgrid.FacetGrid at 0x7f90cb6ca730>"
            ]
          },
          "metadata": {},
          "execution_count": 118
        },
        {
          "output_type": "display_data",
          "data": {
            "text/plain": [
              "<Figure size 500x500 with 1 Axes>"
            ],
            "image/png": "[encoded data removed]"
          },
          "metadata": {}
        }
      ]
    },
    {
      "cell_type": "markdown",
      "source": [
        "**Conclusion:**\n",
        "\n",
        "Based on the analysis, it can be concluded that the top studios producing the most successful movies in terms of gross revenue are Walt Disney, Warner Bros., and Universal Studios\n",
        "The data also suggests that there is a positive correlation between a studio's movie production and its gross revenue.\n",
        "\n",
        "These findings can help guide the decision-making process for the head of Microsoft's new movie studio.\n",
        "\n",
        " They may want to consider partnering with one of the top studios or emulating their successful strategies. Additionally, they could focus on producing a larger quantity of movies in order to increase the chances of generating higher gross revenue."
      ],
      "metadata": {
        "id": "8ant2BmxldJY"
      }
    },
    {
      "cell_type": "code",
      "source": [],
      "metadata": {
        "id": "ZwT86RAGEfwX"
      },
      "execution_count": null,
      "outputs": []
    },
    {
      "cell_type": "markdown",
      "source": [
        "# **3.0 Checking the basic and rating dataset**"
      ],
      "metadata": {
        "id": "P2R2aMPMEvzh"
      }
    },
    {
      "cell_type": "code",
      "source": [
        "df_basic.head(5) ###check the first 5 rows  basic movie "
      ],
      "metadata": {
        "colab": {
          "base_uri": "https://localhost:8080/",
          "height": 285
        },
        "id": "vj6EgXBhJOKd",
        "outputId": "ec9c1330-994e-4e9c-c430-59fcc2d1d709"
      },
      "execution_count": null,
      "outputs": [
        {
          "output_type": "execute_result",
          "data": {
            "text/plain": [
              "    movie_id                    primary_title              original_title  \\\n",
              "0  tt0063540                        Sunghursh                   Sunghursh   \n",
              "1  tt0066787  One Day Before the Rainy Season             Ashad Ka Ek Din   \n",
              "2  tt0069049       The Other Side of the Wind  The Other Side of the Wind   \n",
              "3  tt0069204                  Sabse Bada Sukh             Sabse Bada Sukh   \n",
              "4  tt0100275         The Wandering Soap Opera       La Telenovela Errante   \n",
              "\n",
              "   start_year  runtime_minutes                genres  \n",
              "0        2013            175.0    Action,Crime,Drama  \n",
              "1        2019            114.0       Biography,Drama  \n",
              "2        2018            122.0                 Drama  \n",
              "3        2018              NaN          Comedy,Drama  \n",
              "4        2017             80.0  Comedy,Drama,Fantasy  "
            ],
            "text/html": [
              "\n",
              "  <div id=\"df-92bc4b50-bdf6-454e-b479-302f6240d65e\">\n",
              "    <div class=\"colab-df-container\">\n",
              "      <div>\n",
              "<style scoped>\n",
              "    .dataframe tbody tr th:only-of-type {\n",
              "        vertical-align: middle;\n",
              "    }\n",
              "\n",
              "    .dataframe tbody tr th {\n",
              "        vertical-align: top;\n",
              "    }\n",
              "\n",
              "    .dataframe thead th {\n",
              "        text-align: right;\n",
              "    }\n",
              "</style>\n",
              "<table border=\"1\" class=\"dataframe\">\n",
              "  <thead>\n",
              "    <tr style=\"text-align: right;\">\n",
              "      <th></th>\n",
              "      <th>movie_id</th>\n",
              "      <th>primary_title</th>\n",
              "      <th>original_title</th>\n",
              "      <th>start_year</th>\n",
              "      <th>runtime_minutes</th>\n",
              "      <th>genres</th>\n",
              "    </tr>\n",
              "  </thead>\n",
              "  <tbody>\n",
              "    <tr>\n",
              "      <th>0</th>\n",
              "      <td>tt0063540</td>\n",
              "      <td>Sunghursh</td>\n",
              "      <td>Sunghursh</td>\n",
              "      <td>2013</td>\n",
              "      <td>175.0</td>\n",
              "      <td>Action,Crime,Drama</td>\n",
              "    </tr>\n",
              "    <tr>\n",
              "      <th>1</th>\n",
              "      <td>tt0066787</td>\n",
              "      <td>One Day Before the Rainy Season</td>\n",
              "      <td>Ashad Ka Ek Din</td>\n",
              "      <td>2019</td>\n",
              "      <td>114.0</td>\n",
              "      <td>Biography,Drama</td>\n",
              "    </tr>\n",
              "    <tr>\n",
              "      <th>2</th>\n",
              "      <td>tt0069049</td>\n",
              "      <td>The Other Side of the Wind</td>\n",
              "      <td>The Other Side of the Wind</td>\n",
              "      <td>2018</td>\n",
              "      <td>122.0</td>\n",
              "      <td>Drama</td>\n",
              "    </tr>\n",
              "    <tr>\n",
              "      <th>3</th>\n",
              "      <td>tt0069204</td>\n",
              "      <td>Sabse Bada Sukh</td>\n",
              "      <td>Sabse Bada Sukh</td>\n",
              "      <td>2018</td>\n",
              "      <td>NaN</td>\n",
              "      <td>Comedy,Drama</td>\n",
              "    </tr>\n",
              "    <tr>\n",
              "      <th>4</th>\n",
              "      <td>tt0100275</td>\n",
              "      <td>The Wandering Soap Opera</td>\n",
              "      <td>La Telenovela Errante</td>\n",
              "      <td>2017</td>\n",
              "      <td>80.0</td>\n",
              "      <td>Comedy,Drama,Fantasy</td>\n",
              "    </tr>\n",
              "  </tbody>\n",
              "</table>\n",
              "</div>\n",
              "      <button class=\"colab-df-convert\" onclick=\"convertToInteractive('df-92bc4b50-bdf6-454e-b479-302f6240d65e')\"\n",
              "              title=\"Convert this dataframe to an interactive table.\"\n",
              "              style=\"display:none;\">\n",
              "        \n",
              "  <svg xmlns=\"http://www.w3.org/2000/svg\" height=\"24px\"viewBox=\"0 0 24 24\"\n",
              "       width=\"24px\">\n",
              "    <path d=\"M0 0h24v24H0V0z\" fill=\"none\"/>\n",
              "    <path d=\"M18.56 5.44l.94 2.06.94-2.06 2.06-.94-2.06-.94-.94-2.06-.94 2.06-2.06.94zm-11 1L8.5 8.5l.94-2.06 2.06-.94-2.06-.94L8.5 2.5l-.94 2.06-2.06.94zm10 10l.94 2.06.94-2.06 2.06-.94-2.06-.94-.94-2.06-.94 2.06-2.06.94z\"/><path d=\"M17.41 7.96l-1.37-1.37c-.4-.4-.92-.59-1.43-.59-.52 0-1.04.2-1.43.59L10.3 9.45l-7.72 7.72c-.78.78-.78 2.05 0 2.83L4 21.41c.39.39.9.59 1.41.59.51 0 1.02-.2 1.41-.59l7.78-7.78 2.81-2.81c.8-.78.8-2.07 0-2.86zM5.41 20L4 18.59l7.72-7.72 1.47 1.35L5.41 20z\"/>\n",
              "  </svg>\n",
              "      </button>\n",
              "      \n",
              "  <style>\n",
              "    .colab-df-container {\n",
              "      display:flex;\n",
              "      flex-wrap:wrap;\n",
              "      gap: 12px;\n",
              "    }\n",
              "\n",
              "    .colab-df-convert {\n",
              "      background-color: #E8F0FE;\n",
              "      border: none;\n",
              "      border-radius: 50%;\n",
              "      cursor: pointer;\n",
              "      display: none;\n",
              "      fill: #1967D2;\n",
              "      height: 32px;\n",
              "      padding: 0 0 0 0;\n",
              "      width: 32px;\n",
              "    }\n",
              "\n",
              "    .colab-df-convert:hover {\n",
              "      background-color: #E2EBFA;\n",
              "      box-shadow: 0px 1px 2px rgba(60, 64, 67, 0.3), 0px 1px 3px 1px rgba(60, 64, 67, 0.15);\n",
              "      fill: #174EA6;\n",
              "    }\n",
              "\n",
              "    [theme=dark] .colab-df-convert {\n",
              "      background-color: #3B4455;\n",
              "      fill: #D2E3FC;\n",
              "    }\n",
              "\n",
              "    [theme=dark] .colab-df-convert:hover {\n",
              "      background-color: #434B5C;\n",
              "      box-shadow: 0px 1px 3px 1px rgba(0, 0, 0, 0.15);\n",
              "      filter: drop-shadow(0px 1px 2px rgba(0, 0, 0, 0.3));\n",
              "      fill: #FFFFFF;\n",
              "    }\n",
              "  </style>\n",
              "\n",
              "      <script>\n",
              "        const buttonEl =\n",
              "          document.querySelector('#df-92bc4b50-bdf6-454e-b479-302f6240d65e button.colab-df-convert');\n",
              "        buttonEl.style.display =\n",
              "          google.colab.kernel.accessAllowed ? 'block' : 'none';\n",
              "\n",
              "        async function convertToInteractive(key) {\n",
              "          const element = document.querySelector('#df-92bc4b50-bdf6-454e-b479-302f6240d65e');\n",
              "          const dataTable =\n",
              "            await google.colab.kernel.invokeFunction('convertToInteractive',\n",
              "                                                     [key], {});\n",
              "          if (!dataTable) return;\n",
              "\n",
              "          const docLinkHtml = 'Like what you see? Visit the ' +\n",
              "            '<a target=\"_blank\" href=https://colab.research.google.com/notebooks/data_table.ipynb>data table notebook</a>'\n",
              "            + ' to learn more about interactive tables.';\n",
              "          element.innerHTML = '';\n",
              "          dataTable['output_type'] = 'display_data';\n",
              "          await google.colab.output.renderOutput(dataTable, element);\n",
              "          const docLink = document.createElement('div');\n",
              "          docLink.innerHTML = docLinkHtml;\n",
              "          element.appendChild(docLink);\n",
              "        }\n",
              "      </script>\n",
              "    </div>\n",
              "  </div>\n",
              "  "
            ]
          },
          "metadata": {},
          "execution_count": 122
        }
      ]
    },
    {
      "cell_type": "code",
      "source": [
        "df_basic.tail(5) ###check the last 5 rows  basic movie "
      ],
      "metadata": {
        "colab": {
          "base_uri": "https://localhost:8080/",
          "height": 285
        },
        "id": "6CHJ8hez0JZl",
        "outputId": "04f9e4fa-b9e9-438a-99ac-9a00de23975f"
      },
      "execution_count": null,
      "outputs": [
        {
          "output_type": "execute_result",
          "data": {
            "text/plain": [
              "         movie_id                                primary_title  \\\n",
              "146139  tt9916538                          Kuambil Lagi Hatiku   \n",
              "146140  tt9916622  Rodolpho Teóphilo - O Legado de um Pioneiro   \n",
              "146141  tt9916706                              Dankyavar Danka   \n",
              "146142  tt9916730                                       6 Gunn   \n",
              "146143  tt9916754               Chico Albuquerque - Revelações   \n",
              "\n",
              "                                     original_title  start_year  \\\n",
              "146139                          Kuambil Lagi Hatiku        2019   \n",
              "146140  Rodolpho Teóphilo - O Legado de um Pioneiro        2015   \n",
              "146141                              Dankyavar Danka        2013   \n",
              "146142                                       6 Gunn        2017   \n",
              "146143               Chico Albuquerque - Revelações        2013   \n",
              "\n",
              "        runtime_minutes       genres  \n",
              "146139            123.0        Drama  \n",
              "146140              NaN  Documentary  \n",
              "146141              NaN       Comedy  \n",
              "146142            116.0         None  \n",
              "146143              NaN  Documentary  "
            ],
            "text/html": [
              "\n",
              "  <div id=\"df-286ca583-cd23-454e-b478-ded9c8c1f435\">\n",
              "    <div class=\"colab-df-container\">\n",
              "      <div>\n",
              "<style scoped>\n",
              "    .dataframe tbody tr th:only-of-type {\n",
              "        vertical-align: middle;\n",
              "    }\n",
              "\n",
              "    .dataframe tbody tr th {\n",
              "        vertical-align: top;\n",
              "    }\n",
              "\n",
              "    .dataframe thead th {\n",
              "        text-align: right;\n",
              "    }\n",
              "</style>\n",
              "<table border=\"1\" class=\"dataframe\">\n",
              "  <thead>\n",
              "    <tr style=\"text-align: right;\">\n",
              "      <th></th>\n",
              "      <th>movie_id</th>\n",
              "      <th>primary_title</th>\n",
              "      <th>original_title</th>\n",
              "      <th>start_year</th>\n",
              "      <th>runtime_minutes</th>\n",
              "      <th>genres</th>\n",
              "    </tr>\n",
              "  </thead>\n",
              "  <tbody>\n",
              "    <tr>\n",
              "      <th>146139</th>\n",
              "      <td>tt9916538</td>\n",
              "      <td>Kuambil Lagi Hatiku</td>\n",
              "      <td>Kuambil Lagi Hatiku</td>\n",
              "      <td>2019</td>\n",
              "      <td>123.0</td>\n",
              "      <td>Drama</td>\n",
              "    </tr>\n",
              "    <tr>\n",
              "      <th>146140</th>\n",
              "      <td>tt9916622</td>\n",
              "      <td>Rodolpho Teóphilo - O Legado de um Pioneiro</td>\n",
              "      <td>Rodolpho Teóphilo - O Legado de um Pioneiro</td>\n",
              "      <td>2015</td>\n",
              "      <td>NaN</td>\n",
              "      <td>Documentary</td>\n",
              "    </tr>\n",
              "    <tr>\n",
              "      <th>146141</th>\n",
              "      <td>tt9916706</td>\n",
              "      <td>Dankyavar Danka</td>\n",
              "      <td>Dankyavar Danka</td>\n",
              "      <td>2013</td>\n",
              "      <td>NaN</td>\n",
              "      <td>Comedy</td>\n",
              "    </tr>\n",
              "    <tr>\n",
              "      <th>146142</th>\n",
              "      <td>tt9916730</td>\n",
              "      <td>6 Gunn</td>\n",
              "      <td>6 Gunn</td>\n",
              "      <td>2017</td>\n",
              "      <td>116.0</td>\n",
              "      <td>None</td>\n",
              "    </tr>\n",
              "    <tr>\n",
              "      <th>146143</th>\n",
              "      <td>tt9916754</td>\n",
              "      <td>Chico Albuquerque - Revelações</td>\n",
              "      <td>Chico Albuquerque - Revelações</td>\n",
              "      <td>2013</td>\n",
              "      <td>NaN</td>\n",
              "      <td>Documentary</td>\n",
              "    </tr>\n",
              "  </tbody>\n",
              "</table>\n",
              "</div>\n",
              "      <button class=\"colab-df-convert\" onclick=\"convertToInteractive('df-286ca583-cd23-454e-b478-ded9c8c1f435')\"\n",
              "              title=\"Convert this dataframe to an interactive table.\"\n",
              "              style=\"display:none;\">\n",
              "        \n",
              "  <svg xmlns=\"http://www.w3.org/2000/svg\" height=\"24px\"viewBox=\"0 0 24 24\"\n",
              "       width=\"24px\">\n",
              "    <path d=\"M0 0h24v24H0V0z\" fill=\"none\"/>\n",
              "    <path d=\"M18.56 5.44l.94 2.06.94-2.06 2.06-.94-2.06-.94-.94-2.06-.94 2.06-2.06.94zm-11 1L8.5 8.5l.94-2.06 2.06-.94-2.06-.94L8.5 2.5l-.94 2.06-2.06.94zm10 10l.94 2.06.94-2.06 2.06-.94-2.06-.94-.94-2.06-.94 2.06-2.06.94z\"/><path d=\"M17.41 7.96l-1.37-1.37c-.4-.4-.92-.59-1.43-.59-.52 0-1.04.2-1.43.59L10.3 9.45l-7.72 7.72c-.78.78-.78 2.05 0 2.83L4 21.41c.39.39.9.59 1.41.59.51 0 1.02-.2 1.41-.59l7.78-7.78 2.81-2.81c.8-.78.8-2.07 0-2.86zM5.41 20L4 18.59l7.72-7.72 1.47 1.35L5.41 20z\"/>\n",
              "  </svg>\n",
              "      </button>\n",
              "      \n",
              "  <style>\n",
              "    .colab-df-container {\n",
              "      display:flex;\n",
              "      flex-wrap:wrap;\n",
              "      gap: 12px;\n",
              "    }\n",
              "\n",
              "    .colab-df-convert {\n",
              "      background-color: #E8F0FE;\n",
              "      border: none;\n",
              "      border-radius: 50%;\n",
              "      cursor: pointer;\n",
              "      display: none;\n",
              "      fill: #1967D2;\n",
              "      height: 32px;\n",
              "      padding: 0 0 0 0;\n",
              "      width: 32px;\n",
              "    }\n",
              "\n",
              "    .colab-df-convert:hover {\n",
              "      background-color: #E2EBFA;\n",
              "      box-shadow: 0px 1px 2px rgba(60, 64, 67, 0.3), 0px 1px 3px 1px rgba(60, 64, 67, 0.15);\n",
              "      fill: #174EA6;\n",
              "    }\n",
              "\n",
              "    [theme=dark] .colab-df-convert {\n",
              "      background-color: #3B4455;\n",
              "      fill: #D2E3FC;\n",
              "    }\n",
              "\n",
              "    [theme=dark] .colab-df-convert:hover {\n",
              "      background-color: #434B5C;\n",
              "      box-shadow: 0px 1px 3px 1px rgba(0, 0, 0, 0.15);\n",
              "      filter: drop-shadow(0px 1px 2px rgba(0, 0, 0, 0.3));\n",
              "      fill: #FFFFFF;\n",
              "    }\n",
              "  </style>\n",
              "\n",
              "      <script>\n",
              "        const buttonEl =\n",
              "          document.querySelector('#df-286ca583-cd23-454e-b478-ded9c8c1f435 button.colab-df-convert');\n",
              "        buttonEl.style.display =\n",
              "          google.colab.kernel.accessAllowed ? 'block' : 'none';\n",
              "\n",
              "        async function convertToInteractive(key) {\n",
              "          const element = document.querySelector('#df-286ca583-cd23-454e-b478-ded9c8c1f435');\n",
              "          const dataTable =\n",
              "            await google.colab.kernel.invokeFunction('convertToInteractive',\n",
              "                                                     [key], {});\n",
              "          if (!dataTable) return;\n",
              "\n",
              "          const docLinkHtml = 'Like what you see? Visit the ' +\n",
              "            '<a target=\"_blank\" href=https://colab.research.google.com/notebooks/data_table.ipynb>data table notebook</a>'\n",
              "            + ' to learn more about interactive tables.';\n",
              "          element.innerHTML = '';\n",
              "          dataTable['output_type'] = 'display_data';\n",
              "          await google.colab.output.renderOutput(dataTable, element);\n",
              "          const docLink = document.createElement('div');\n",
              "          docLink.innerHTML = docLinkHtml;\n",
              "          element.appendChild(docLink);\n",
              "        }\n",
              "      </script>\n",
              "    </div>\n",
              "  </div>\n",
              "  "
            ]
          },
          "metadata": {},
          "execution_count": 123
        }
      ]
    },
    {
      "cell_type": "markdown",
      "source": [
        " **Observation**: Data variables are consistent from top to bottom for the basic movie dataset"
      ],
      "metadata": {
        "id": "_qY3zDFOlcEM"
      }
    },
    {
      "cell_type": "code",
      "source": [
        "df_rating.head(5) ###check the first 5 rows  rating movie"
      ],
      "metadata": {
        "colab": {
          "base_uri": "https://localhost:8080/",
          "height": 206
        },
        "id": "Vo1_VimnFisU",
        "outputId": "f8cc72ea-b1f8-4220-a9d6-49fdece0f0a5"
      },
      "execution_count": null,
      "outputs": [
        {
          "output_type": "execute_result",
          "data": {
            "text/plain": [
              "     movie_id  averagerating  numvotes\n",
              "0  tt10356526            8.3        31\n",
              "1  tt10384606            8.9       559\n",
              "2   tt1042974            6.4        20\n",
              "3   tt1043726            4.2     50352\n",
              "4   tt1060240            6.5        21"
            ],
            "text/html": [
              "\n",
              "  <div id=\"df-7d700c58-772e-43c1-b8d0-66f97938bd78\">\n",
              "    <div class=\"colab-df-container\">\n",
              "      <div>\n",
              "<style scoped>\n",
              "    .dataframe tbody tr th:only-of-type {\n",
              "        vertical-align: middle;\n",
              "    }\n",
              "\n",
              "    .dataframe tbody tr th {\n",
              "        vertical-align: top;\n",
              "    }\n",
              "\n",
              "    .dataframe thead th {\n",
              "        text-align: right;\n",
              "    }\n",
              "</style>\n",
              "<table border=\"1\" class=\"dataframe\">\n",
              "  <thead>\n",
              "    <tr style=\"text-align: right;\">\n",
              "      <th></th>\n",
              "      <th>movie_id</th>\n",
              "      <th>averagerating</th>\n",
              "      <th>numvotes</th>\n",
              "    </tr>\n",
              "  </thead>\n",
              "  <tbody>\n",
              "    <tr>\n",
              "      <th>0</th>\n",
              "      <td>tt10356526</td>\n",
              "      <td>8.3</td>\n",
              "      <td>31</td>\n",
              "    </tr>\n",
              "    <tr>\n",
              "      <th>1</th>\n",
              "      <td>tt10384606</td>\n",
              "      <td>8.9</td>\n",
              "      <td>559</td>\n",
              "    </tr>\n",
              "    <tr>\n",
              "      <th>2</th>\n",
              "      <td>tt1042974</td>\n",
              "      <td>6.4</td>\n",
              "      <td>20</td>\n",
              "    </tr>\n",
              "    <tr>\n",
              "      <th>3</th>\n",
              "      <td>tt1043726</td>\n",
              "      <td>4.2</td>\n",
              "      <td>50352</td>\n",
              "    </tr>\n",
              "    <tr>\n",
              "      <th>4</th>\n",
              "      <td>tt1060240</td>\n",
              "      <td>6.5</td>\n",
              "      <td>21</td>\n",
              "    </tr>\n",
              "  </tbody>\n",
              "</table>\n",
              "</div>\n",
              "      <button class=\"colab-df-convert\" onclick=\"convertToInteractive('df-7d700c58-772e-43c1-b8d0-66f97938bd78')\"\n",
              "              title=\"Convert this dataframe to an interactive table.\"\n",
              "              style=\"display:none;\">\n",
              "        \n",
              "  <svg xmlns=\"http://www.w3.org/2000/svg\" height=\"24px\"viewBox=\"0 0 24 24\"\n",
              "       width=\"24px\">\n",
              "    <path d=\"M0 0h24v24H0V0z\" fill=\"none\"/>\n",
              "    <path d=\"M18.56 5.44l.94 2.06.94-2.06 2.06-.94-2.06-.94-.94-2.06-.94 2.06-2.06.94zm-11 1L8.5 8.5l.94-2.06 2.06-.94-2.06-.94L8.5 2.5l-.94 2.06-2.06.94zm10 10l.94 2.06.94-2.06 2.06-.94-2.06-.94-.94-2.06-.94 2.06-2.06.94z\"/><path d=\"M17.41 7.96l-1.37-1.37c-.4-.4-.92-.59-1.43-.59-.52 0-1.04.2-1.43.59L10.3 9.45l-7.72 7.72c-.78.78-.78 2.05 0 2.83L4 21.41c.39.39.9.59 1.41.59.51 0 1.02-.2 1.41-.59l7.78-7.78 2.81-2.81c.8-.78.8-2.07 0-2.86zM5.41 20L4 18.59l7.72-7.72 1.47 1.35L5.41 20z\"/>\n",
              "  </svg>\n",
              "      </button>\n",
              "      \n",
              "  <style>\n",
              "    .colab-df-container {\n",
              "      display:flex;\n",
              "      flex-wrap:wrap;\n",
              "      gap: 12px;\n",
              "    }\n",
              "\n",
              "    .colab-df-convert {\n",
              "      background-color: #E8F0FE;\n",
              "      border: none;\n",
              "      border-radius: 50%;\n",
              "      cursor: pointer;\n",
              "      display: none;\n",
              "      fill: #1967D2;\n",
              "      height: 32px;\n",
              "      padding: 0 0 0 0;\n",
              "      width: 32px;\n",
              "    }\n",
              "\n",
              "    .colab-df-convert:hover {\n",
              "      background-color: #E2EBFA;\n",
              "      box-shadow: 0px 1px 2px rgba(60, 64, 67, 0.3), 0px 1px 3px 1px rgba(60, 64, 67, 0.15);\n",
              "      fill: #174EA6;\n",
              "    }\n",
              "\n",
              "    [theme=dark] .colab-df-convert {\n",
              "      background-color: #3B4455;\n",
              "      fill: #D2E3FC;\n",
              "    }\n",
              "\n",
              "    [theme=dark] .colab-df-convert:hover {\n",
              "      background-color: #434B5C;\n",
              "      box-shadow: 0px 1px 3px 1px rgba(0, 0, 0, 0.15);\n",
              "      filter: drop-shadow(0px 1px 2px rgba(0, 0, 0, 0.3));\n",
              "      fill: #FFFFFF;\n",
              "    }\n",
              "  </style>\n",
              "\n",
              "      <script>\n",
              "        const buttonEl =\n",
              "          document.querySelector('#df-7d700c58-772e-43c1-b8d0-66f97938bd78 button.colab-df-convert');\n",
              "        buttonEl.style.display =\n",
              "          google.colab.kernel.accessAllowed ? 'block' : 'none';\n",
              "\n",
              "        async function convertToInteractive(key) {\n",
              "          const element = document.querySelector('#df-7d700c58-772e-43c1-b8d0-66f97938bd78');\n",
              "          const dataTable =\n",
              "            await google.colab.kernel.invokeFunction('convertToInteractive',\n",
              "                                                     [key], {});\n",
              "          if (!dataTable) return;\n",
              "\n",
              "          const docLinkHtml = 'Like what you see? Visit the ' +\n",
              "            '<a target=\"_blank\" href=https://colab.research.google.com/notebooks/data_table.ipynb>data table notebook</a>'\n",
              "            + ' to learn more about interactive tables.';\n",
              "          element.innerHTML = '';\n",
              "          dataTable['output_type'] = 'display_data';\n",
              "          await google.colab.output.renderOutput(dataTable, element);\n",
              "          const docLink = document.createElement('div');\n",
              "          docLink.innerHTML = docLinkHtml;\n",
              "          element.appendChild(docLink);\n",
              "        }\n",
              "      </script>\n",
              "    </div>\n",
              "  </div>\n",
              "  "
            ]
          },
          "metadata": {},
          "execution_count": 125
        }
      ]
    },
    {
      "cell_type": "code",
      "source": [
        "df_rating.tail(5) ###check the last  5 rows  rating movie"
      ],
      "metadata": {
        "colab": {
          "base_uri": "https://localhost:8080/",
          "height": 206
        },
        "id": "vgeMOjxlFob7",
        "outputId": "64ceeeec-9bd7-4087-fa1a-e2726da7fe56"
      },
      "execution_count": null,
      "outputs": [
        {
          "output_type": "execute_result",
          "data": {
            "text/plain": [
              "        movie_id  averagerating  numvotes\n",
              "73851  tt9805820            8.1        25\n",
              "73852  tt9844256            7.5        24\n",
              "73853  tt9851050            4.7        14\n",
              "73854  tt9886934            7.0         5\n",
              "73855  tt9894098            6.3       128"
            ],
            "text/html": [
              "\n",
              "  <div id=\"df-f1dbc654-2008-497a-86c8-93ab348b4447\">\n",
              "    <div class=\"colab-df-container\">\n",
              "      <div>\n",
              "<style scoped>\n",
              "    .dataframe tbody tr th:only-of-type {\n",
              "        vertical-align: middle;\n",
              "    }\n",
              "\n",
              "    .dataframe tbody tr th {\n",
              "        vertical-align: top;\n",
              "    }\n",
              "\n",
              "    .dataframe thead th {\n",
              "        text-align: right;\n",
              "    }\n",
              "</style>\n",
              "<table border=\"1\" class=\"dataframe\">\n",
              "  <thead>\n",
              "    <tr style=\"text-align: right;\">\n",
              "      <th></th>\n",
              "      <th>movie_id</th>\n",
              "      <th>averagerating</th>\n",
              "      <th>numvotes</th>\n",
              "    </tr>\n",
              "  </thead>\n",
              "  <tbody>\n",
              "    <tr>\n",
              "      <th>73851</th>\n",
              "      <td>tt9805820</td>\n",
              "      <td>8.1</td>\n",
              "      <td>25</td>\n",
              "    </tr>\n",
              "    <tr>\n",
              "      <th>73852</th>\n",
              "      <td>tt9844256</td>\n",
              "      <td>7.5</td>\n",
              "      <td>24</td>\n",
              "    </tr>\n",
              "    <tr>\n",
              "      <th>73853</th>\n",
              "      <td>tt9851050</td>\n",
              "      <td>4.7</td>\n",
              "      <td>14</td>\n",
              "    </tr>\n",
              "    <tr>\n",
              "      <th>73854</th>\n",
              "      <td>tt9886934</td>\n",
              "      <td>7.0</td>\n",
              "      <td>5</td>\n",
              "    </tr>\n",
              "    <tr>\n",
              "      <th>73855</th>\n",
              "      <td>tt9894098</td>\n",
              "      <td>6.3</td>\n",
              "      <td>128</td>\n",
              "    </tr>\n",
              "  </tbody>\n",
              "</table>\n",
              "</div>\n",
              "      <button class=\"colab-df-convert\" onclick=\"convertToInteractive('df-f1dbc654-2008-497a-86c8-93ab348b4447')\"\n",
              "              title=\"Convert this dataframe to an interactive table.\"\n",
              "              style=\"display:none;\">\n",
              "        \n",
              "  <svg xmlns=\"http://www.w3.org/2000/svg\" height=\"24px\"viewBox=\"0 0 24 24\"\n",
              "       width=\"24px\">\n",
              "    <path d=\"M0 0h24v24H0V0z\" fill=\"none\"/>\n",
              "    <path d=\"M18.56 5.44l.94 2.06.94-2.06 2.06-.94-2.06-.94-.94-2.06-.94 2.06-2.06.94zm-11 1L8.5 8.5l.94-2.06 2.06-.94-2.06-.94L8.5 2.5l-.94 2.06-2.06.94zm10 10l.94 2.06.94-2.06 2.06-.94-2.06-.94-.94-2.06-.94 2.06-2.06.94z\"/><path d=\"M17.41 7.96l-1.37-1.37c-.4-.4-.92-.59-1.43-.59-.52 0-1.04.2-1.43.59L10.3 9.45l-7.72 7.72c-.78.78-.78 2.05 0 2.83L4 21.41c.39.39.9.59 1.41.59.51 0 1.02-.2 1.41-.59l7.78-7.78 2.81-2.81c.8-.78.8-2.07 0-2.86zM5.41 20L4 18.59l7.72-7.72 1.47 1.35L5.41 20z\"/>\n",
              "  </svg>\n",
              "      </button>\n",
              "      \n",
              "  <style>\n",
              "    .colab-df-container {\n",
              "      display:flex;\n",
              "      flex-wrap:wrap;\n",
              "      gap: 12px;\n",
              "    }\n",
              "\n",
              "    .colab-df-convert {\n",
              "      background-color: #E8F0FE;\n",
              "      border: none;\n",
              "      border-radius: 50%;\n",
              "      cursor: pointer;\n",
              "      display: none;\n",
              "      fill: #1967D2;\n",
              "      height: 32px;\n",
              "      padding: 0 0 0 0;\n",
              "      width: 32px;\n",
              "    }\n",
              "\n",
              "    .colab-df-convert:hover {\n",
              "      background-color: #E2EBFA;\n",
              "      box-shadow: 0px 1px 2px rgba(60, 64, 67, 0.3), 0px 1px 3px 1px rgba(60, 64, 67, 0.15);\n",
              "      fill: #174EA6;\n",
              "    }\n",
              "\n",
              "    [theme=dark] .colab-df-convert {\n",
              "      background-color: #3B4455;\n",
              "      fill: #D2E3FC;\n",
              "    }\n",
              "\n",
              "    [theme=dark] .colab-df-convert:hover {\n",
              "      background-color: #434B5C;\n",
              "      box-shadow: 0px 1px 3px 1px rgba(0, 0, 0, 0.15);\n",
              "      filter: drop-shadow(0px 1px 2px rgba(0, 0, 0, 0.3));\n",
              "      fill: #FFFFFF;\n",
              "    }\n",
              "  </style>\n",
              "\n",
              "      <script>\n",
              "        const buttonEl =\n",
              "          document.querySelector('#df-f1dbc654-2008-497a-86c8-93ab348b4447 button.colab-df-convert');\n",
              "        buttonEl.style.display =\n",
              "          google.colab.kernel.accessAllowed ? 'block' : 'none';\n",
              "\n",
              "        async function convertToInteractive(key) {\n",
              "          const element = document.querySelector('#df-f1dbc654-2008-497a-86c8-93ab348b4447');\n",
              "          const dataTable =\n",
              "            await google.colab.kernel.invokeFunction('convertToInteractive',\n",
              "                                                     [key], {});\n",
              "          if (!dataTable) return;\n",
              "\n",
              "          const docLinkHtml = 'Like what you see? Visit the ' +\n",
              "            '<a target=\"_blank\" href=https://colab.research.google.com/notebooks/data_table.ipynb>data table notebook</a>'\n",
              "            + ' to learn more about interactive tables.';\n",
              "          element.innerHTML = '';\n",
              "          dataTable['output_type'] = 'display_data';\n",
              "          await google.colab.output.renderOutput(dataTable, element);\n",
              "          const docLink = document.createElement('div');\n",
              "          docLink.innerHTML = docLinkHtml;\n",
              "          element.appendChild(docLink);\n",
              "        }\n",
              "      </script>\n",
              "    </div>\n",
              "  </div>\n",
              "  "
            ]
          },
          "metadata": {},
          "execution_count": 126
        }
      ]
    },
    {
      "cell_type": "markdown",
      "source": [
        "**Observation:** Data variables are consistent from top to bottom for the rating movie dataset"
      ],
      "metadata": {
        "id": "8iN25TqZF7iq"
      }
    },
    {
      "cell_type": "markdown",
      "source": [
        "***Conclusion of the two dataset: *** They have different variables and common movie_id hence they can be merged and perform data explolation "
      ],
      "metadata": {
        "id": "FF_WPUOPGDmE"
      }
    },
    {
      "cell_type": "markdown",
      "source": [
        "# **4.Exploring IM Movies**  :Merged rating and basic movies "
      ],
      "metadata": {
        "id": "frZpoFNac4fJ"
      }
    },
    {
      "cell_type": "code",
      "source": [
        "## merging the rating and the basic dataset\n",
        "df_rating_basic = pd.merge(df_basic, df_rating)"
      ],
      "metadata": {
        "id": "FmMHkr4oHCj9"
      },
      "execution_count": null,
      "outputs": []
    },
    {
      "cell_type": "code",
      "source": [
        "df_rating_basic.head() ##checking if the dataset merged "
      ],
      "metadata": {
        "colab": {
          "base_uri": "https://localhost:8080/",
          "height": 357
        },
        "id": "ZEskKTljFiAs",
        "outputId": "6f6b0af7-8350-44fb-ee49-e79db9ef4f7d"
      },
      "execution_count": null,
      "outputs": [
        {
          "output_type": "execute_result",
          "data": {
            "text/plain": [
              "    movie_id                    primary_title              original_title  \\\n",
              "0  tt0063540                        Sunghursh                   Sunghursh   \n",
              "1  tt0066787  One Day Before the Rainy Season             Ashad Ka Ek Din   \n",
              "2  tt0069049       The Other Side of the Wind  The Other Side of the Wind   \n",
              "3  tt0069204                  Sabse Bada Sukh             Sabse Bada Sukh   \n",
              "4  tt0100275         The Wandering Soap Opera       La Telenovela Errante   \n",
              "\n",
              "   start_year  runtime_minutes                genres  averagerating  numvotes  \n",
              "0        2013            175.0    Action,Crime,Drama            7.0        77  \n",
              "1        2019            114.0       Biography,Drama            7.2        43  \n",
              "2        2018            122.0                 Drama            6.9      4517  \n",
              "3        2018              NaN          Comedy,Drama            6.1        13  \n",
              "4        2017             80.0  Comedy,Drama,Fantasy            6.5       119  "
            ],
            "text/html": [
              "\n",
              "  <div id=\"df-212991cb-bef1-4a25-bd7f-db8839c14657\">\n",
              "    <div class=\"colab-df-container\">\n",
              "      <div>\n",
              "<style scoped>\n",
              "    .dataframe tbody tr th:only-of-type {\n",
              "        vertical-align: middle;\n",
              "    }\n",
              "\n",
              "    .dataframe tbody tr th {\n",
              "        vertical-align: top;\n",
              "    }\n",
              "\n",
              "    .dataframe thead th {\n",
              "        text-align: right;\n",
              "    }\n",
              "</style>\n",
              "<table border=\"1\" class=\"dataframe\">\n",
              "  <thead>\n",
              "    <tr style=\"text-align: right;\">\n",
              "      <th></th>\n",
              "      <th>movie_id</th>\n",
              "      <th>primary_title</th>\n",
              "      <th>original_title</th>\n",
              "      <th>start_year</th>\n",
              "      <th>runtime_minutes</th>\n",
              "      <th>genres</th>\n",
              "      <th>averagerating</th>\n",
              "      <th>numvotes</th>\n",
              "    </tr>\n",
              "  </thead>\n",
              "  <tbody>\n",
              "    <tr>\n",
              "      <th>0</th>\n",
              "      <td>tt0063540</td>\n",
              "      <td>Sunghursh</td>\n",
              "      <td>Sunghursh</td>\n",
              "      <td>2013</td>\n",
              "      <td>175.0</td>\n",
              "      <td>Action,Crime,Drama</td>\n",
              "      <td>7.0</td>\n",
              "      <td>77</td>\n",
              "    </tr>\n",
              "    <tr>\n",
              "      <th>1</th>\n",
              "      <td>tt0066787</td>\n",
              "      <td>One Day Before the Rainy Season</td>\n",
              "      <td>Ashad Ka Ek Din</td>\n",
              "      <td>2019</td>\n",
              "      <td>114.0</td>\n",
              "      <td>Biography,Drama</td>\n",
              "      <td>7.2</td>\n",
              "      <td>43</td>\n",
              "    </tr>\n",
              "    <tr>\n",
              "      <th>2</th>\n",
              "      <td>tt0069049</td>\n",
              "      <td>The Other Side of the Wind</td>\n",
              "      <td>The Other Side of the Wind</td>\n",
              "      <td>2018</td>\n",
              "      <td>122.0</td>\n",
              "      <td>Drama</td>\n",
              "      <td>6.9</td>\n",
              "      <td>4517</td>\n",
              "    </tr>\n",
              "    <tr>\n",
              "      <th>3</th>\n",
              "      <td>tt0069204</td>\n",
              "      <td>Sabse Bada Sukh</td>\n",
              "      <td>Sabse Bada Sukh</td>\n",
              "      <td>2018</td>\n",
              "      <td>NaN</td>\n",
              "      <td>Comedy,Drama</td>\n",
              "      <td>6.1</td>\n",
              "      <td>13</td>\n",
              "    </tr>\n",
              "    <tr>\n",
              "      <th>4</th>\n",
              "      <td>tt0100275</td>\n",
              "      <td>The Wandering Soap Opera</td>\n",
              "      <td>La Telenovela Errante</td>\n",
              "      <td>2017</td>\n",
              "      <td>80.0</td>\n",
              "      <td>Comedy,Drama,Fantasy</td>\n",
              "      <td>6.5</td>\n",
              "      <td>119</td>\n",
              "    </tr>\n",
              "  </tbody>\n",
              "</table>\n",
              "</div>\n",
              "      <button class=\"colab-df-convert\" onclick=\"convertToInteractive('df-212991cb-bef1-4a25-bd7f-db8839c14657')\"\n",
              "              title=\"Convert this dataframe to an interactive table.\"\n",
              "              style=\"display:none;\">\n",
              "        \n",
              "  <svg xmlns=\"http://www.w3.org/2000/svg\" height=\"24px\"viewBox=\"0 0 24 24\"\n",
              "       width=\"24px\">\n",
              "    <path d=\"M0 0h24v24H0V0z\" fill=\"none\"/>\n",
              "    <path d=\"M18.56 5.44l.94 2.06.94-2.06 2.06-.94-2.06-.94-.94-2.06-.94 2.06-2.06.94zm-11 1L8.5 8.5l.94-2.06 2.06-.94-2.06-.94L8.5 2.5l-.94 2.06-2.06.94zm10 10l.94 2.06.94-2.06 2.06-.94-2.06-.94-.94-2.06-.94 2.06-2.06.94z\"/><path d=\"M17.41 7.96l-1.37-1.37c-.4-.4-.92-.59-1.43-.59-.52 0-1.04.2-1.43.59L10.3 9.45l-7.72 7.72c-.78.78-.78 2.05 0 2.83L4 21.41c.39.39.9.59 1.41.59.51 0 1.02-.2 1.41-.59l7.78-7.78 2.81-2.81c.8-.78.8-2.07 0-2.86zM5.41 20L4 18.59l7.72-7.72 1.47 1.35L5.41 20z\"/>\n",
              "  </svg>\n",
              "      </button>\n",
              "      \n",
              "  <style>\n",
              "    .colab-df-container {\n",
              "      display:flex;\n",
              "      flex-wrap:wrap;\n",
              "      gap: 12px;\n",
              "    }\n",
              "\n",
              "    .colab-df-convert {\n",
              "      background-color: #E8F0FE;\n",
              "      border: none;\n",
              "      border-radius: 50%;\n",
              "      cursor: pointer;\n",
              "      display: none;\n",
              "      fill: #1967D2;\n",
              "      height: 32px;\n",
              "      padding: 0 0 0 0;\n",
              "      width: 32px;\n",
              "    }\n",
              "\n",
              "    .colab-df-convert:hover {\n",
              "      background-color: #E2EBFA;\n",
              "      box-shadow: 0px 1px 2px rgba(60, 64, 67, 0.3), 0px 1px 3px 1px rgba(60, 64, 67, 0.15);\n",
              "      fill: #174EA6;\n",
              "    }\n",
              "\n",
              "    [theme=dark] .colab-df-convert {\n",
              "      background-color: #3B4455;\n",
              "      fill: #D2E3FC;\n",
              "    }\n",
              "\n",
              "    [theme=dark] .colab-df-convert:hover {\n",
              "      background-color: #434B5C;\n",
              "      box-shadow: 0px 1px 3px 1px rgba(0, 0, 0, 0.15);\n",
              "      filter: drop-shadow(0px 1px 2px rgba(0, 0, 0, 0.3));\n",
              "      fill: #FFFFFF;\n",
              "    }\n",
              "  </style>\n",
              "\n",
              "      <script>\n",
              "        const buttonEl =\n",
              "          document.querySelector('#df-212991cb-bef1-4a25-bd7f-db8839c14657 button.colab-df-convert');\n",
              "        buttonEl.style.display =\n",
              "          google.colab.kernel.accessAllowed ? 'block' : 'none';\n",
              "\n",
              "        async function convertToInteractive(key) {\n",
              "          const element = document.querySelector('#df-212991cb-bef1-4a25-bd7f-db8839c14657');\n",
              "          const dataTable =\n",
              "            await google.colab.kernel.invokeFunction('convertToInteractive',\n",
              "                                                     [key], {});\n",
              "          if (!dataTable) return;\n",
              "\n",
              "          const docLinkHtml = 'Like what you see? Visit the ' +\n",
              "            '<a target=\"_blank\" href=https://colab.research.google.com/notebooks/data_table.ipynb>data table notebook</a>'\n",
              "            + ' to learn more about interactive tables.';\n",
              "          element.innerHTML = '';\n",
              "          dataTable['output_type'] = 'display_data';\n",
              "          await google.colab.output.renderOutput(dataTable, element);\n",
              "          const docLink = document.createElement('div');\n",
              "          docLink.innerHTML = docLinkHtml;\n",
              "          element.appendChild(docLink);\n",
              "        }\n",
              "      </script>\n",
              "    </div>\n",
              "  </div>\n",
              "  "
            ]
          },
          "metadata": {},
          "execution_count": 128
        }
      ]
    },
    {
      "cell_type": "code",
      "source": [
        "df_rating_basic.head(5) ###check the first 5 rows  of movie "
      ],
      "metadata": {
        "colab": {
          "base_uri": "https://localhost:8080/",
          "height": 357
        },
        "id": "xGbvNSYCdV0X",
        "outputId": "47f4d3c1-d41f-48c4-997e-26b63bab034c"
      },
      "execution_count": null,
      "outputs": [
        {
          "output_type": "execute_result",
          "data": {
            "text/plain": [
              "    movie_id                    primary_title              original_title  \\\n",
              "0  tt0063540                        Sunghursh                   Sunghursh   \n",
              "1  tt0066787  One Day Before the Rainy Season             Ashad Ka Ek Din   \n",
              "2  tt0069049       The Other Side of the Wind  The Other Side of the Wind   \n",
              "3  tt0069204                  Sabse Bada Sukh             Sabse Bada Sukh   \n",
              "4  tt0100275         The Wandering Soap Opera       La Telenovela Errante   \n",
              "\n",
              "   start_year  runtime_minutes                genres  averagerating  numvotes  \n",
              "0        2013            175.0    Action,Crime,Drama            7.0        77  \n",
              "1        2019            114.0       Biography,Drama            7.2        43  \n",
              "2        2018            122.0                 Drama            6.9      4517  \n",
              "3        2018              NaN          Comedy,Drama            6.1        13  \n",
              "4        2017             80.0  Comedy,Drama,Fantasy            6.5       119  "
            ],
            "text/html": [
              "\n",
              "  <div id=\"df-0662a02e-7290-43e3-bec4-cdd8335f220b\">\n",
              "    <div class=\"colab-df-container\">\n",
              "      <div>\n",
              "<style scoped>\n",
              "    .dataframe tbody tr th:only-of-type {\n",
              "        vertical-align: middle;\n",
              "    }\n",
              "\n",
              "    .dataframe tbody tr th {\n",
              "        vertical-align: top;\n",
              "    }\n",
              "\n",
              "    .dataframe thead th {\n",
              "        text-align: right;\n",
              "    }\n",
              "</style>\n",
              "<table border=\"1\" class=\"dataframe\">\n",
              "  <thead>\n",
              "    <tr style=\"text-align: right;\">\n",
              "      <th></th>\n",
              "      <th>movie_id</th>\n",
              "      <th>primary_title</th>\n",
              "      <th>original_title</th>\n",
              "      <th>start_year</th>\n",
              "      <th>runtime_minutes</th>\n",
              "      <th>genres</th>\n",
              "      <th>averagerating</th>\n",
              "      <th>numvotes</th>\n",
              "    </tr>\n",
              "  </thead>\n",
              "  <tbody>\n",
              "    <tr>\n",
              "      <th>0</th>\n",
              "      <td>tt0063540</td>\n",
              "      <td>Sunghursh</td>\n",
              "      <td>Sunghursh</td>\n",
              "      <td>2013</td>\n",
              "      <td>175.0</td>\n",
              "      <td>Action,Crime,Drama</td>\n",
              "      <td>7.0</td>\n",
              "      <td>77</td>\n",
              "    </tr>\n",
              "    <tr>\n",
              "      <th>1</th>\n",
              "      <td>tt0066787</td>\n",
              "      <td>One Day Before the Rainy Season</td>\n",
              "      <td>Ashad Ka Ek Din</td>\n",
              "      <td>2019</td>\n",
              "      <td>114.0</td>\n",
              "      <td>Biography,Drama</td>\n",
              "      <td>7.2</td>\n",
              "      <td>43</td>\n",
              "    </tr>\n",
              "    <tr>\n",
              "      <th>2</th>\n",
              "      <td>tt0069049</td>\n",
              "      <td>The Other Side of the Wind</td>\n",
              "      <td>The Other Side of the Wind</td>\n",
              "      <td>2018</td>\n",
              "      <td>122.0</td>\n",
              "      <td>Drama</td>\n",
              "      <td>6.9</td>\n",
              "      <td>4517</td>\n",
              "    </tr>\n",
              "    <tr>\n",
              "      <th>3</th>\n",
              "      <td>tt0069204</td>\n",
              "      <td>Sabse Bada Sukh</td>\n",
              "      <td>Sabse Bada Sukh</td>\n",
              "      <td>2018</td>\n",
              "      <td>NaN</td>\n",
              "      <td>Comedy,Drama</td>\n",
              "      <td>6.1</td>\n",
              "      <td>13</td>\n",
              "    </tr>\n",
              "    <tr>\n",
              "      <th>4</th>\n",
              "      <td>tt0100275</td>\n",
              "      <td>The Wandering Soap Opera</td>\n",
              "      <td>La Telenovela Errante</td>\n",
              "      <td>2017</td>\n",
              "      <td>80.0</td>\n",
              "      <td>Comedy,Drama,Fantasy</td>\n",
              "      <td>6.5</td>\n",
              "      <td>119</td>\n",
              "    </tr>\n",
              "  </tbody>\n",
              "</table>\n",
              "</div>\n",
              "      <button class=\"colab-df-convert\" onclick=\"convertToInteractive('df-0662a02e-7290-43e3-bec4-cdd8335f220b')\"\n",
              "              title=\"Convert this dataframe to an interactive table.\"\n",
              "              style=\"display:none;\">\n",
              "        \n",
              "  <svg xmlns=\"http://www.w3.org/2000/svg\" height=\"24px\"viewBox=\"0 0 24 24\"\n",
              "       width=\"24px\">\n",
              "    <path d=\"M0 0h24v24H0V0z\" fill=\"none\"/>\n",
              "    <path d=\"M18.56 5.44l.94 2.06.94-2.06 2.06-.94-2.06-.94-.94-2.06-.94 2.06-2.06.94zm-11 1L8.5 8.5l.94-2.06 2.06-.94-2.06-.94L8.5 2.5l-.94 2.06-2.06.94zm10 10l.94 2.06.94-2.06 2.06-.94-2.06-.94-.94-2.06-.94 2.06-2.06.94z\"/><path d=\"M17.41 7.96l-1.37-1.37c-.4-.4-.92-.59-1.43-.59-.52 0-1.04.2-1.43.59L10.3 9.45l-7.72 7.72c-.78.78-.78 2.05 0 2.83L4 21.41c.39.39.9.59 1.41.59.51 0 1.02-.2 1.41-.59l7.78-7.78 2.81-2.81c.8-.78.8-2.07 0-2.86zM5.41 20L4 18.59l7.72-7.72 1.47 1.35L5.41 20z\"/>\n",
              "  </svg>\n",
              "      </button>\n",
              "      \n",
              "  <style>\n",
              "    .colab-df-container {\n",
              "      display:flex;\n",
              "      flex-wrap:wrap;\n",
              "      gap: 12px;\n",
              "    }\n",
              "\n",
              "    .colab-df-convert {\n",
              "      background-color: #E8F0FE;\n",
              "      border: none;\n",
              "      border-radius: 50%;\n",
              "      cursor: pointer;\n",
              "      display: none;\n",
              "      fill: #1967D2;\n",
              "      height: 32px;\n",
              "      padding: 0 0 0 0;\n",
              "      width: 32px;\n",
              "    }\n",
              "\n",
              "    .colab-df-convert:hover {\n",
              "      background-color: #E2EBFA;\n",
              "      box-shadow: 0px 1px 2px rgba(60, 64, 67, 0.3), 0px 1px 3px 1px rgba(60, 64, 67, 0.15);\n",
              "      fill: #174EA6;\n",
              "    }\n",
              "\n",
              "    [theme=dark] .colab-df-convert {\n",
              "      background-color: #3B4455;\n",
              "      fill: #D2E3FC;\n",
              "    }\n",
              "\n",
              "    [theme=dark] .colab-df-convert:hover {\n",
              "      background-color: #434B5C;\n",
              "      box-shadow: 0px 1px 3px 1px rgba(0, 0, 0, 0.15);\n",
              "      filter: drop-shadow(0px 1px 2px rgba(0, 0, 0, 0.3));\n",
              "      fill: #FFFFFF;\n",
              "    }\n",
              "  </style>\n",
              "\n",
              "      <script>\n",
              "        const buttonEl =\n",
              "          document.querySelector('#df-0662a02e-7290-43e3-bec4-cdd8335f220b button.colab-df-convert');\n",
              "        buttonEl.style.display =\n",
              "          google.colab.kernel.accessAllowed ? 'block' : 'none';\n",
              "\n",
              "        async function convertToInteractive(key) {\n",
              "          const element = document.querySelector('#df-0662a02e-7290-43e3-bec4-cdd8335f220b');\n",
              "          const dataTable =\n",
              "            await google.colab.kernel.invokeFunction('convertToInteractive',\n",
              "                                                     [key], {});\n",
              "          if (!dataTable) return;\n",
              "\n",
              "          const docLinkHtml = 'Like what you see? Visit the ' +\n",
              "            '<a target=\"_blank\" href=https://colab.research.google.com/notebooks/data_table.ipynb>data table notebook</a>'\n",
              "            + ' to learn more about interactive tables.';\n",
              "          element.innerHTML = '';\n",
              "          dataTable['output_type'] = 'display_data';\n",
              "          await google.colab.output.renderOutput(dataTable, element);\n",
              "          const docLink = document.createElement('div');\n",
              "          docLink.innerHTML = docLinkHtml;\n",
              "          element.appendChild(docLink);\n",
              "        }\n",
              "      </script>\n",
              "    </div>\n",
              "  </div>\n",
              "  "
            ]
          },
          "metadata": {},
          "execution_count": 129
        }
      ]
    },
    {
      "cell_type": "code",
      "source": [
        "df_rating_basic.tail() ##checking the last 5 rows"
      ],
      "metadata": {
        "colab": {
          "base_uri": "https://localhost:8080/",
          "height": 305
        },
        "id": "SXxTtYCsdXah",
        "outputId": "d045cbc3-9296-45fa-8e2f-ce5705568957"
      },
      "execution_count": null,
      "outputs": [
        {
          "output_type": "execute_result",
          "data": {
            "text/plain": [
              "        movie_id               primary_title              original_title  \\\n",
              "73851  tt9913084            Diabolik sono io            Diabolik sono io   \n",
              "73852  tt9914286           Sokagin Çocuklari           Sokagin Çocuklari   \n",
              "73853  tt9914642                   Albatross                   Albatross   \n",
              "73854  tt9914942  La vida sense la Sara Amat  La vida sense la Sara Amat   \n",
              "73855  tt9916160                  Drømmeland                  Drømmeland   \n",
              "\n",
              "       start_year  runtime_minutes        genres  averagerating  numvotes  \n",
              "73851        2019             75.0   Documentary            6.2         6  \n",
              "73852        2019             98.0  Drama,Family            8.7       136  \n",
              "73853        2017              NaN   Documentary            8.5         8  \n",
              "73854        2019              NaN          None            6.6         5  \n",
              "73855        2019             72.0   Documentary            6.5        11  "
            ],
            "text/html": [
              "\n",
              "  <div id=\"df-4c8ce4cb-8dbf-464b-a235-1e015bfd0b7f\">\n",
              "    <div class=\"colab-df-container\">\n",
              "      <div>\n",
              "<style scoped>\n",
              "    .dataframe tbody tr th:only-of-type {\n",
              "        vertical-align: middle;\n",
              "    }\n",
              "\n",
              "    .dataframe tbody tr th {\n",
              "        vertical-align: top;\n",
              "    }\n",
              "\n",
              "    .dataframe thead th {\n",
              "        text-align: right;\n",
              "    }\n",
              "</style>\n",
              "<table border=\"1\" class=\"dataframe\">\n",
              "  <thead>\n",
              "    <tr style=\"text-align: right;\">\n",
              "      <th></th>\n",
              "      <th>movie_id</th>\n",
              "      <th>primary_title</th>\n",
              "      <th>original_title</th>\n",
              "      <th>start_year</th>\n",
              "      <th>runtime_minutes</th>\n",
              "      <th>genres</th>\n",
              "      <th>averagerating</th>\n",
              "      <th>numvotes</th>\n",
              "    </tr>\n",
              "  </thead>\n",
              "  <tbody>\n",
              "    <tr>\n",
              "      <th>73851</th>\n",
              "      <td>tt9913084</td>\n",
              "      <td>Diabolik sono io</td>\n",
              "      <td>Diabolik sono io</td>\n",
              "      <td>2019</td>\n",
              "      <td>75.0</td>\n",
              "      <td>Documentary</td>\n",
              "      <td>6.2</td>\n",
              "      <td>6</td>\n",
              "    </tr>\n",
              "    <tr>\n",
              "      <th>73852</th>\n",
              "      <td>tt9914286</td>\n",
              "      <td>Sokagin Çocuklari</td>\n",
              "      <td>Sokagin Çocuklari</td>\n",
              "      <td>2019</td>\n",
              "      <td>98.0</td>\n",
              "      <td>Drama,Family</td>\n",
              "      <td>8.7</td>\n",
              "      <td>136</td>\n",
              "    </tr>\n",
              "    <tr>\n",
              "      <th>73853</th>\n",
              "      <td>tt9914642</td>\n",
              "      <td>Albatross</td>\n",
              "      <td>Albatross</td>\n",
              "      <td>2017</td>\n",
              "      <td>NaN</td>\n",
              "      <td>Documentary</td>\n",
              "      <td>8.5</td>\n",
              "      <td>8</td>\n",
              "    </tr>\n",
              "    <tr>\n",
              "      <th>73854</th>\n",
              "      <td>tt9914942</td>\n",
              "      <td>La vida sense la Sara Amat</td>\n",
              "      <td>La vida sense la Sara Amat</td>\n",
              "      <td>2019</td>\n",
              "      <td>NaN</td>\n",
              "      <td>None</td>\n",
              "      <td>6.6</td>\n",
              "      <td>5</td>\n",
              "    </tr>\n",
              "    <tr>\n",
              "      <th>73855</th>\n",
              "      <td>tt9916160</td>\n",
              "      <td>Drømmeland</td>\n",
              "      <td>Drømmeland</td>\n",
              "      <td>2019</td>\n",
              "      <td>72.0</td>\n",
              "      <td>Documentary</td>\n",
              "      <td>6.5</td>\n",
              "      <td>11</td>\n",
              "    </tr>\n",
              "  </tbody>\n",
              "</table>\n",
              "</div>\n",
              "      <button class=\"colab-df-convert\" onclick=\"convertToInteractive('df-4c8ce4cb-8dbf-464b-a235-1e015bfd0b7f')\"\n",
              "              title=\"Convert this dataframe to an interactive table.\"\n",
              "              style=\"display:none;\">\n",
              "        \n",
              "  <svg xmlns=\"http://www.w3.org/2000/svg\" height=\"24px\"viewBox=\"0 0 24 24\"\n",
              "       width=\"24px\">\n",
              "    <path d=\"M0 0h24v24H0V0z\" fill=\"none\"/>\n",
              "    <path d=\"M18.56 5.44l.94 2.06.94-2.06 2.06-.94-2.06-.94-.94-2.06-.94 2.06-2.06.94zm-11 1L8.5 8.5l.94-2.06 2.06-.94-2.06-.94L8.5 2.5l-.94 2.06-2.06.94zm10 10l.94 2.06.94-2.06 2.06-.94-2.06-.94-.94-2.06-.94 2.06-2.06.94z\"/><path d=\"M17.41 7.96l-1.37-1.37c-.4-.4-.92-.59-1.43-.59-.52 0-1.04.2-1.43.59L10.3 9.45l-7.72 7.72c-.78.78-.78 2.05 0 2.83L4 21.41c.39.39.9.59 1.41.59.51 0 1.02-.2 1.41-.59l7.78-7.78 2.81-2.81c.8-.78.8-2.07 0-2.86zM5.41 20L4 18.59l7.72-7.72 1.47 1.35L5.41 20z\"/>\n",
              "  </svg>\n",
              "      </button>\n",
              "      \n",
              "  <style>\n",
              "    .colab-df-container {\n",
              "      display:flex;\n",
              "      flex-wrap:wrap;\n",
              "      gap: 12px;\n",
              "    }\n",
              "\n",
              "    .colab-df-convert {\n",
              "      background-color: #E8F0FE;\n",
              "      border: none;\n",
              "      border-radius: 50%;\n",
              "      cursor: pointer;\n",
              "      display: none;\n",
              "      fill: #1967D2;\n",
              "      height: 32px;\n",
              "      padding: 0 0 0 0;\n",
              "      width: 32px;\n",
              "    }\n",
              "\n",
              "    .colab-df-convert:hover {\n",
              "      background-color: #E2EBFA;\n",
              "      box-shadow: 0px 1px 2px rgba(60, 64, 67, 0.3), 0px 1px 3px 1px rgba(60, 64, 67, 0.15);\n",
              "      fill: #174EA6;\n",
              "    }\n",
              "\n",
              "    [theme=dark] .colab-df-convert {\n",
              "      background-color: #3B4455;\n",
              "      fill: #D2E3FC;\n",
              "    }\n",
              "\n",
              "    [theme=dark] .colab-df-convert:hover {\n",
              "      background-color: #434B5C;\n",
              "      box-shadow: 0px 1px 3px 1px rgba(0, 0, 0, 0.15);\n",
              "      filter: drop-shadow(0px 1px 2px rgba(0, 0, 0, 0.3));\n",
              "      fill: #FFFFFF;\n",
              "    }\n",
              "  </style>\n",
              "\n",
              "      <script>\n",
              "        const buttonEl =\n",
              "          document.querySelector('#df-4c8ce4cb-8dbf-464b-a235-1e015bfd0b7f button.colab-df-convert');\n",
              "        buttonEl.style.display =\n",
              "          google.colab.kernel.accessAllowed ? 'block' : 'none';\n",
              "\n",
              "        async function convertToInteractive(key) {\n",
              "          const element = document.querySelector('#df-4c8ce4cb-8dbf-464b-a235-1e015bfd0b7f');\n",
              "          const dataTable =\n",
              "            await google.colab.kernel.invokeFunction('convertToInteractive',\n",
              "                                                     [key], {});\n",
              "          if (!dataTable) return;\n",
              "\n",
              "          const docLinkHtml = 'Like what you see? Visit the ' +\n",
              "            '<a target=\"_blank\" href=https://colab.research.google.com/notebooks/data_table.ipynb>data table notebook</a>'\n",
              "            + ' to learn more about interactive tables.';\n",
              "          element.innerHTML = '';\n",
              "          dataTable['output_type'] = 'display_data';\n",
              "          await google.colab.output.renderOutput(dataTable, element);\n",
              "          const docLink = document.createElement('div');\n",
              "          docLink.innerHTML = docLinkHtml;\n",
              "          element.appendChild(docLink);\n",
              "        }\n",
              "      </script>\n",
              "    </div>\n",
              "  </div>\n",
              "  "
            ]
          },
          "metadata": {},
          "execution_count": 130
        }
      ]
    },
    {
      "cell_type": "markdown",
      "source": [
        "**Conclusion of merged dataset:** The columns, rowsa and values are constistent from top to bottom"
      ],
      "metadata": {
        "id": "Q7hVpwMNZoPy"
      }
    },
    {
      "cell_type": "code",
      "source": [
        "df_rating_basic.info() ## getiing the summmary for the data including missing da"
      ],
      "metadata": {
        "colab": {
          "base_uri": "https://localhost:8080/"
        },
        "id": "IC_q7hPigzL_",
        "outputId": "1c07354f-3148-4159-a28e-27a94d9d0597"
      },
      "execution_count": null,
      "outputs": [
        {
          "output_type": "stream",
          "name": "stdout",
          "text": [
            "<class 'pandas.core.frame.DataFrame'>\n",
            "Int64Index: 73856 entries, 0 to 73855\n",
            "Data columns (total 8 columns):\n",
            " #   Column           Non-Null Count  Dtype  \n",
            "---  ------           --------------  -----  \n",
            " 0   movie_id         73856 non-null  object \n",
            " 1   primary_title    73856 non-null  object \n",
            " 2   original_title   73856 non-null  object \n",
            " 3   start_year       73856 non-null  int64  \n",
            " 4   runtime_minutes  66236 non-null  float64\n",
            " 5   genres           73052 non-null  object \n",
            " 6   averagerating    73856 non-null  float64\n",
            " 7   numvotes         73856 non-null  int64  \n",
            "dtypes: float64(2), int64(2), object(4)\n",
            "memory usage: 5.1+ MB\n"
          ]
        }
      ]
    },
    {
      "cell_type": "code",
      "source": [
        "# Checking the % of value missing \n",
        "missing_per = df_rating_basic.isnull().mean() * 100\n",
        "missing_per"
      ],
      "metadata": {
        "colab": {
          "base_uri": "https://localhost:8080/"
        },
        "id": "M0GS7X61hBEV",
        "outputId": "1be433b0-7b9e-488a-a85d-339fa08bc4b7"
      },
      "execution_count": null,
      "outputs": [
        {
          "output_type": "execute_result",
          "data": {
            "text/plain": [
              "movie_id            0.000000\n",
              "primary_title       0.000000\n",
              "original_title      0.000000\n",
              "start_year          0.000000\n",
              "runtime_minutes    10.317374\n",
              "genres              1.088605\n",
              "averagerating       0.000000\n",
              "numvotes            0.000000\n",
              "dtype: float64"
            ]
          },
          "metadata": {},
          "execution_count": 133
        }
      ]
    },
    {
      "cell_type": "markdown",
      "source": [
        "**Missing value observation:** The level of the missing is less than 10% we can replace the missing by the mean"
      ],
      "metadata": {
        "id": "7xrEJK26L_2Z"
      }
    },
    {
      "cell_type": "markdown",
      "source": [
        "# ***4.0 Data manipulation the megerd basic and rating dataset movie ***"
      ],
      "metadata": {
        "id": "E2lG9_N1Kw08"
      }
    },
    {
      "cell_type": "code",
      "source": [
        "### fill the missing with means since the missing values are < 10%\n",
        "df_rating_basic_filled = df_rating_basic.fillna(df_rating_basic.mean())"
      ],
      "metadata": {
        "colab": {
          "base_uri": "https://localhost:8080/"
        },
        "id": "rBXNjtgSJdw_",
        "outputId": "7e678b87-a5d3-41b8-dc7a-1a57b8e0c230"
      },
      "execution_count": null,
      "outputs": [
        {
          "output_type": "stream",
          "name": "stderr",
          "text": [
            "<ipython-input-148-0026d79961fc>:2: FutureWarning: The default value of numeric_only in DataFrame.mean is deprecated. In a future version, it will default to False. In addition, specifying 'numeric_only=None' is deprecated. Select only valid columns or specify the value of numeric_only to silence this warning.\n",
            "  df_rating_basic_filled = df_rating_basic.fillna(df_rating_basic.mean())\n"
          ]
        }
      ]
    },
    {
      "cell_type": "code",
      "source": [
        "df_rating_basic_filled.info() ### checking if all missing values have been filled "
      ],
      "metadata": {
        "colab": {
          "base_uri": "https://localhost:8080/"
        },
        "id": "6yISMFOCLj5r",
        "outputId": "f87f292b-bece-4a10-c1a2-d54013900e34"
      },
      "execution_count": null,
      "outputs": [
        {
          "output_type": "stream",
          "name": "stdout",
          "text": [
            "<class 'pandas.core.frame.DataFrame'>\n",
            "Int64Index: 73856 entries, 0 to 73855\n",
            "Data columns (total 8 columns):\n",
            " #   Column           Non-Null Count  Dtype  \n",
            "---  ------           --------------  -----  \n",
            " 0   movie_id         73856 non-null  object \n",
            " 1   primary_title    73856 non-null  object \n",
            " 2   original_title   73856 non-null  object \n",
            " 3   start_year       73856 non-null  int64  \n",
            " 4   runtime_minutes  73856 non-null  float64\n",
            " 5   genres           73052 non-null  object \n",
            " 6   averagerating    73856 non-null  float64\n",
            " 7   numvotes         73856 non-null  int64  \n",
            "dtypes: float64(2), int64(2), object(4)\n",
            "memory usage: 5.1+ MB\n"
          ]
        }
      ]
    },
    {
      "cell_type": "code",
      "source": [
        "##checking for duplicates \n",
        "df_rating_basic_filled.duplicated().sum() # no duplicates observed \n",
        "##no duplicates observed "
      ],
      "metadata": {
        "colab": {
          "base_uri": "https://localhost:8080/"
        },
        "id": "p1XHO6XALvpC",
        "outputId": "de09638e-6b59-4685-f422-841941838afb"
      },
      "execution_count": null,
      "outputs": [
        {
          "output_type": "execute_result",
          "data": {
            "text/plain": [
              "0"
            ]
          },
          "metadata": {},
          "execution_count": 153
        }
      ]
    },
    {
      "cell_type": "code",
      "source": [
        "# checking for outliers \n",
        "# Select numerical columns and remove rows with missing values\n",
        "df_num = df_rating_basic_filled.select_dtypes(include=[float, int,float]).dropna()\n",
        "plt.figure(figsize=(10, 10))\n",
        "df_rating_basic_filled.boxplot()\n",
        "plt.show()\n"
      ],
      "metadata": {
        "colab": {
          "base_uri": "https://localhost:8080/",
          "height": 846
        },
        "id": "C2xq44CMNVhN",
        "outputId": "325c611e-4e44-4a77-bf65-5051a0f45d98"
      },
      "execution_count": null,
      "outputs": [
        {
          "output_type": "display_data",
          "data": {
            "text/plain": [
              "<Figure size 1000x1000 with 1 Axes>"
            ],
            "image/png": "[encoded data removed]"
          },
          "metadata": {}
        }
      ]
    },
    {
      "cell_type": "markdown",
      "source": [
        "**Observation:** There is outlier in the numvotes though it is okay"
      ],
      "metadata": {
        "id": "pj6pSDjmN_k6"
      }
    },
    {
      "cell_type": "markdown",
      "source": [
        "**Research Questions 2**\n",
        "\n",
        "To explore which genres are performing best at the box office."
      ],
      "metadata": {
        "id": "oFH2HIKZR6CE"
      }
    },
    {
      "cell_type": "code",
      "source": [
        "# Calculate descriptive statistics of the averagerating\n",
        "#our dependent variable=avearagerating\n",
        "#our independent variable =genres \n",
        "averagerating = df_rating_basic_filled['averagerating']\n",
        "print(averagerating.describe())"
      ],
      "metadata": {
        "colab": {
          "base_uri": "https://localhost:8080/"
        },
        "id": "G_SYoql_SVjt",
        "outputId": "4000f33a-6bae-42a1-9d68-c6ce54a1560f"
      },
      "execution_count": null,
      "outputs": [
        {
          "output_type": "stream",
          "name": "stdout",
          "text": [
            "count    73856.000000\n",
            "mean         6.332729\n",
            "std          1.474978\n",
            "min          1.000000\n",
            "25%          5.500000\n",
            "50%          6.500000\n",
            "75%          7.400000\n",
            "max         10.000000\n",
            "Name: averagerating, dtype: float64\n"
          ]
        }
      ]
    },
    {
      "cell_type": "markdown",
      "source": [
        "**Observation:** The data looks okay with normal disribution"
      ],
      "metadata": {
        "id": "gT7U8q0QTdnk"
      }
    },
    {
      "cell_type": "code",
      "source": [
        "# Check for missing values for the averagerating\n",
        "print(averagerating.isnull().sum()) ## no missing values since it was dropped"
      ],
      "metadata": {
        "colab": {
          "base_uri": "https://localhost:8080/"
        },
        "id": "-IICfD6_UIl5",
        "outputId": "3c84db3d-e051-44af-a059-3d246ec76766"
      },
      "execution_count": null,
      "outputs": [
        {
          "output_type": "stream",
          "name": "stdout",
          "text": [
            "0\n"
          ]
        }
      ]
    },
    {
      "cell_type": "code",
      "source": [
        "# Visualize the distribution for the averagerating\n",
        "sns.histplot(averagerating)\n",
        "plt.show()"
      ],
      "metadata": {
        "colab": {
          "base_uri": "https://localhost:8080/",
          "height": 449
        },
        "id": "ctitBBskUW-o",
        "outputId": "bab83e76-1853-4285-b78a-45d305d795b0"
      },
      "execution_count": null,
      "outputs": [
        {
          "output_type": "display_data",
          "data": {
            "text/plain": [
              "<Figure size 640x480 with 1 Axes>"
            ],
            "image/png": "[encoded data removed]"
          },
          "metadata": {}
        }
      ]
    },
    {
      "cell_type": "markdown",
      "source": [
        "**Observation:** The data looks symetrical with no outliers "
      ],
      "metadata": {
        "id": "HAEp_w2MV4Jp"
      }
    },
    {
      "cell_type": "code",
      "source": [
        "# Check for outliers for the domestic gross\n",
        "sns.boxplot(averagerating)\n",
        "plt.show()\n"
      ],
      "metadata": {
        "colab": {
          "base_uri": "https://localhost:8080/",
          "height": 430
        },
        "id": "clf4sFWPWOiy",
        "outputId": "c9199060-c069-4987-a34c-e50825157b44"
      },
      "execution_count": null,
      "outputs": [
        {
          "output_type": "display_data",
          "data": {
            "text/plain": [
              "<Figure size 640x480 with 1 Axes>"
            ],
            "image/png": "[encoded data removed]"
          },
          "metadata": {}
        }
      ]
    },
    {
      "cell_type": "markdown",
      "source": [
        "**Observation:** No outlier detected in the data"
      ],
      "metadata": {
        "id": "fwh2ohxPWZ_x"
      }
    },
    {
      "cell_type": "code",
      "source": [
        "## find the 10 genres  with the highest rating \n",
        "## group by genre and the average rating  sum\n",
        "df_genre = df_rating_basic_filled.groupby('genres')['averagerating'].mean().sort_values(ascending=False)\n",
        "top_genres = df_genre.head(10)\n",
        "top_genres ## print the foirst 10 studios with the highest rating"
      ],
      "metadata": {
        "colab": {
          "base_uri": "https://localhost:8080/"
        },
        "id": "nAIPatFrWgwS",
        "outputId": "3970683d-0459-42e8-b0ce-04857f530728"
      },
      "execution_count": null,
      "outputs": [
        {
          "output_type": "execute_result",
          "data": {
            "text/plain": [
              "genres\n",
              "Comedy,Documentary,Fantasy     9.4\n",
              "Documentary,Family,Musical     9.3\n",
              "History,Sport                  9.2\n",
              "Music,Mystery                  9.0\n",
              "Game-Show                      9.0\n",
              "Drama,Fantasy,War              8.8\n",
              "Documentary,News,Sport         8.8\n",
              "Comedy,Drama,Reality-TV        8.8\n",
              "Drama,Short                    8.8\n",
              "Documentary,News,Reality-TV    8.8\n",
              "Name: averagerating, dtype: float64"
            ]
          },
          "metadata": {},
          "execution_count": 243
        }
      ]
    },
    {
      "cell_type": "code",
      "source": [
        "##create vizual of 10 top genres rating\n",
        "plt.figure(figsize=(12,8))\n",
        "plt.bar(top_genres.index, top_genres.values, color='blue')\n",
        "plt.xticks(rotation=90)\n",
        "plt.xlabel('Genres')\n",
        "plt.ylabel('Mean Average Rating')\n",
        "plt.title('Mean Average Rating for Top 10 Genres')\n",
        "plt.show()"
      ],
      "metadata": {
        "id": "pZMqcHxpZIU1",
        "colab": {
          "base_uri": "https://localhost:8080/",
          "height": 938
        },
        "outputId": "1b847cc9-f326-476a-ad07-7bef1bff69ff"
      },
      "execution_count": 253,
      "outputs": [
        {
          "output_type": "display_data",
          "data": {
            "text/plain": [
              "<Figure size 1200x800 with 1 Axes>"
            ],
            "image/png": "[encoded data removed]"
          },
          "metadata": {}
        }
      ]
    },
    {
      "cell_type": "markdown",
      "source": [
        "\n",
        "# Conclusion: \n",
        "\n",
        "Based on the analysis, we can see that the genres Comedy,Documentary,Fantasy  have the highest mean average rating of 9.4 . This suggests that movies in these genres tend to be more highly rated by viewers compared to movies in other genres. \n",
        "\n",
        "From the bar plot, we can see that there is a clear difference in the mean average rating between the top 10 genres and the other genres.\n",
        "\n",
        " This suggests that genre is an important factor to consider when producing movies, as it can have a significant impact on the viewer's perception of the movie. \n",
        "\n",
        "\n"
      ],
      "metadata": {
        "id": "SBiby_dnbjZS"
      }
    }
  ],
  "metadata": {
    "kernelspec": {
      "display_name": "Python 3",
      "language": "python",
      "name": "python3"
    },
    "language_info": {
      "codemirror_mode": {
        "name": "ipython",
        "version": 3
      },
      "file_extension": ".py",
      "mimetype": "text/x-python",
      "name": "python",
      "nbconvert_exporter": "python",
      "pygments_lexer": "ipython3",
      "version": "3.6.4"
    },
    "colab": {
      "provenance": []
    }
  },
  "nbformat": 4,
  "nbformat_minor": 0
}